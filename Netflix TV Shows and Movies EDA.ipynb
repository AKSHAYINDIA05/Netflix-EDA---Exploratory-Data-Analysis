{
  "cells": [
    {
      "cell_type": "markdown",
      "metadata": {
        "id": "yyETR80qsdbc"
      },
      "source": [
        "# Exploratory Data Analysis - A Case Study\n",
        "\n",
        "#### Analyzing TV Shows and movies from Netflix Streaming May 2022\n",
        "\n",
        "\n",
        "\n",
        "\n",
        "## Introduction\n",
        "\n",
        "#### In this tutorial, we'll analyze the TV Shows and Movies data of Netflix Streaming dataset. The dataset contains shows and movies title in the Netflix. You can find the dataset here: https://www.kaggle.com/datasets/victorsoeiro/netflix-tv-shows-and-movies"
      ]
    },
    {
      "cell_type": "markdown",
      "metadata": {
        "id": "oYb0gUAIsdbh"
      },
      "source": [
        "## Downloading the Dataset\n",
        "\n",
        "There are several options for getting the dataset into Jupyter:\n",
        "\n",
        "    >> Download the CSV manually and upload it via Jupyter's GUI\n",
        "    >> Use the urlretrieve function from the urllib.request to download CSV files from a raw URL\n",
        "    >> Use a helper library, e.g., opendatasets, which contains a collection of curated datasets and provides a helper function for direct download.\n",
        "\n",
        "We'll use the opendatasets helper library to download the files."
      ]
    },
    {
      "cell_type": "markdown",
      "metadata": {
        "id": "eZhPHDcNsdbk"
      },
      "source": [
        "Let's import pandas with alias name pd"
      ]
    },
    {
      "cell_type": "code",
      "execution_count": null,
      "metadata": {
        "id": "P_RAXzM6sdbl"
      },
      "outputs": [],
      "source": [
        "import pandas as pd"
      ]
    },
    {
      "cell_type": "code",
      "execution_count": null,
      "metadata": {
        "id": "hna_C5Z8sdbl"
      },
      "outputs": [],
      "source": [
        "df = pd.read_csv('titles.csv')"
      ]
    },
    {
      "cell_type": "markdown",
      "metadata": {
        "id": "k_2jVQdCsdbm"
      },
      "source": [
        "We load the CSV files using the Pandas library. We'll use the name df for the data frame to indicate this is unprocessed data that we might clean, filter, and modify to prepare a data frame ready for analysis."
      ]
    },
    {
      "cell_type": "code",
      "execution_count": null,
      "metadata": {
        "id": "e5uwnk5msdbq",
        "outputId": "3ae2e8b1-5110-4813-9d78-ea62eec0e823"
      },
      "outputs": [
        {
          "data": {
            "text/html": [
              "<div>\n",
              "<style scoped>\n",
              "    .dataframe tbody tr th:only-of-type {\n",
              "        vertical-align: middle;\n",
              "    }\n",
              "\n",
              "    .dataframe tbody tr th {\n",
              "        vertical-align: top;\n",
              "    }\n",
              "\n",
              "    .dataframe thead th {\n",
              "        text-align: right;\n",
              "    }\n",
              "</style>\n",
              "<table border=\"1\" class=\"dataframe\">\n",
              "  <thead>\n",
              "    <tr style=\"text-align: right;\">\n",
              "      <th></th>\n",
              "      <th>id</th>\n",
              "      <th>title</th>\n",
              "      <th>type</th>\n",
              "      <th>description</th>\n",
              "      <th>release_year</th>\n",
              "      <th>age_certification</th>\n",
              "      <th>runtime</th>\n",
              "      <th>genres</th>\n",
              "      <th>production_countries</th>\n",
              "      <th>seasons</th>\n",
              "      <th>imdb_id</th>\n",
              "      <th>imdb_score</th>\n",
              "      <th>imdb_votes</th>\n",
              "      <th>tmdb_popularity</th>\n",
              "      <th>tmdb_score</th>\n",
              "    </tr>\n",
              "  </thead>\n",
              "  <tbody>\n",
              "    <tr>\n",
              "      <th>0</th>\n",
              "      <td>ts300399</td>\n",
              "      <td>Five Came Back: The Reference Films</td>\n",
              "      <td>SHOW</td>\n",
              "      <td>This collection includes 12 World War II-era p...</td>\n",
              "      <td>1945</td>\n",
              "      <td>TV-MA</td>\n",
              "      <td>48</td>\n",
              "      <td>['documentation']</td>\n",
              "      <td>['US']</td>\n",
              "      <td>1.0</td>\n",
              "      <td>NaN</td>\n",
              "      <td>NaN</td>\n",
              "      <td>NaN</td>\n",
              "      <td>0.600</td>\n",
              "      <td>NaN</td>\n",
              "    </tr>\n",
              "    <tr>\n",
              "      <th>1</th>\n",
              "      <td>tm84618</td>\n",
              "      <td>Taxi Driver</td>\n",
              "      <td>MOVIE</td>\n",
              "      <td>A mentally unstable Vietnam War veteran works ...</td>\n",
              "      <td>1976</td>\n",
              "      <td>R</td>\n",
              "      <td>113</td>\n",
              "      <td>['crime', 'drama']</td>\n",
              "      <td>['US']</td>\n",
              "      <td>NaN</td>\n",
              "      <td>tt0075314</td>\n",
              "      <td>8.3</td>\n",
              "      <td>795222.0</td>\n",
              "      <td>27.612</td>\n",
              "      <td>8.2</td>\n",
              "    </tr>\n",
              "    <tr>\n",
              "      <th>2</th>\n",
              "      <td>tm127384</td>\n",
              "      <td>Monty Python and the Holy Grail</td>\n",
              "      <td>MOVIE</td>\n",
              "      <td>King Arthur, accompanied by his squire, recrui...</td>\n",
              "      <td>1975</td>\n",
              "      <td>PG</td>\n",
              "      <td>91</td>\n",
              "      <td>['comedy', 'fantasy']</td>\n",
              "      <td>['GB']</td>\n",
              "      <td>NaN</td>\n",
              "      <td>tt0071853</td>\n",
              "      <td>8.2</td>\n",
              "      <td>530877.0</td>\n",
              "      <td>18.216</td>\n",
              "      <td>7.8</td>\n",
              "    </tr>\n",
              "    <tr>\n",
              "      <th>3</th>\n",
              "      <td>tm70993</td>\n",
              "      <td>Life of Brian</td>\n",
              "      <td>MOVIE</td>\n",
              "      <td>Brian Cohen is an average young Jewish man, bu...</td>\n",
              "      <td>1979</td>\n",
              "      <td>R</td>\n",
              "      <td>94</td>\n",
              "      <td>['comedy']</td>\n",
              "      <td>['GB']</td>\n",
              "      <td>NaN</td>\n",
              "      <td>tt0079470</td>\n",
              "      <td>8.0</td>\n",
              "      <td>392419.0</td>\n",
              "      <td>17.505</td>\n",
              "      <td>7.8</td>\n",
              "    </tr>\n",
              "    <tr>\n",
              "      <th>4</th>\n",
              "      <td>tm190788</td>\n",
              "      <td>The Exorcist</td>\n",
              "      <td>MOVIE</td>\n",
              "      <td>12-year-old Regan MacNeil begins to adapt an e...</td>\n",
              "      <td>1973</td>\n",
              "      <td>R</td>\n",
              "      <td>133</td>\n",
              "      <td>['horror']</td>\n",
              "      <td>['US']</td>\n",
              "      <td>NaN</td>\n",
              "      <td>tt0070047</td>\n",
              "      <td>8.1</td>\n",
              "      <td>391942.0</td>\n",
              "      <td>95.337</td>\n",
              "      <td>7.7</td>\n",
              "    </tr>\n",
              "    <tr>\n",
              "      <th>...</th>\n",
              "      <td>...</td>\n",
              "      <td>...</td>\n",
              "      <td>...</td>\n",
              "      <td>...</td>\n",
              "      <td>...</td>\n",
              "      <td>...</td>\n",
              "      <td>...</td>\n",
              "      <td>...</td>\n",
              "      <td>...</td>\n",
              "      <td>...</td>\n",
              "      <td>...</td>\n",
              "      <td>...</td>\n",
              "      <td>...</td>\n",
              "      <td>...</td>\n",
              "      <td>...</td>\n",
              "    </tr>\n",
              "    <tr>\n",
              "      <th>5801</th>\n",
              "      <td>tm1014599</td>\n",
              "      <td>Fine Wine</td>\n",
              "      <td>MOVIE</td>\n",
              "      <td>A beautiful love story that can happen between...</td>\n",
              "      <td>2021</td>\n",
              "      <td>NaN</td>\n",
              "      <td>100</td>\n",
              "      <td>['romance', 'drama']</td>\n",
              "      <td>['NG']</td>\n",
              "      <td>NaN</td>\n",
              "      <td>tt13857480</td>\n",
              "      <td>6.9</td>\n",
              "      <td>39.0</td>\n",
              "      <td>0.966</td>\n",
              "      <td>NaN</td>\n",
              "    </tr>\n",
              "    <tr>\n",
              "      <th>5802</th>\n",
              "      <td>tm1108171</td>\n",
              "      <td>Edis Starlight</td>\n",
              "      <td>MOVIE</td>\n",
              "      <td>Rising star Edis's career journey with ups and...</td>\n",
              "      <td>2021</td>\n",
              "      <td>NaN</td>\n",
              "      <td>74</td>\n",
              "      <td>['music', 'documentation']</td>\n",
              "      <td>[]</td>\n",
              "      <td>NaN</td>\n",
              "      <td>NaN</td>\n",
              "      <td>NaN</td>\n",
              "      <td>NaN</td>\n",
              "      <td>1.036</td>\n",
              "      <td>8.5</td>\n",
              "    </tr>\n",
              "    <tr>\n",
              "      <th>5803</th>\n",
              "      <td>tm1045018</td>\n",
              "      <td>Clash</td>\n",
              "      <td>MOVIE</td>\n",
              "      <td>A man from Nigeria returns to his family in Ca...</td>\n",
              "      <td>2021</td>\n",
              "      <td>NaN</td>\n",
              "      <td>88</td>\n",
              "      <td>['family', 'drama']</td>\n",
              "      <td>['NG', 'CA']</td>\n",
              "      <td>NaN</td>\n",
              "      <td>tt14620732</td>\n",
              "      <td>6.5</td>\n",
              "      <td>32.0</td>\n",
              "      <td>0.709</td>\n",
              "      <td>NaN</td>\n",
              "    </tr>\n",
              "    <tr>\n",
              "      <th>5804</th>\n",
              "      <td>tm1098060</td>\n",
              "      <td>Shadow Parties</td>\n",
              "      <td>MOVIE</td>\n",
              "      <td>A family faces destruction in a long-running c...</td>\n",
              "      <td>2021</td>\n",
              "      <td>NaN</td>\n",
              "      <td>116</td>\n",
              "      <td>['action', 'thriller']</td>\n",
              "      <td>[]</td>\n",
              "      <td>NaN</td>\n",
              "      <td>tt10168094</td>\n",
              "      <td>6.2</td>\n",
              "      <td>9.0</td>\n",
              "      <td>2.186</td>\n",
              "      <td>NaN</td>\n",
              "    </tr>\n",
              "    <tr>\n",
              "      <th>5805</th>\n",
              "      <td>ts271048</td>\n",
              "      <td>Mighty Little Bheem: Kite Festival</td>\n",
              "      <td>SHOW</td>\n",
              "      <td>With winter behind them, Bheem and his townspe...</td>\n",
              "      <td>2021</td>\n",
              "      <td>NaN</td>\n",
              "      <td>0</td>\n",
              "      <td>['family', 'comedy', 'animation']</td>\n",
              "      <td>[]</td>\n",
              "      <td>1.0</td>\n",
              "      <td>tt13711094</td>\n",
              "      <td>8.8</td>\n",
              "      <td>16.0</td>\n",
              "      <td>0.979</td>\n",
              "      <td>10.0</td>\n",
              "    </tr>\n",
              "  </tbody>\n",
              "</table>\n",
              "<p>5806 rows × 15 columns</p>\n",
              "</div>"
            ],
            "text/plain": [
              "             id                                title   type  \\\n",
              "0      ts300399  Five Came Back: The Reference Films   SHOW   \n",
              "1       tm84618                          Taxi Driver  MOVIE   \n",
              "2      tm127384      Monty Python and the Holy Grail  MOVIE   \n",
              "3       tm70993                        Life of Brian  MOVIE   \n",
              "4      tm190788                         The Exorcist  MOVIE   \n",
              "...         ...                                  ...    ...   \n",
              "5801  tm1014599                            Fine Wine  MOVIE   \n",
              "5802  tm1108171                       Edis Starlight  MOVIE   \n",
              "5803  tm1045018                                Clash  MOVIE   \n",
              "5804  tm1098060                       Shadow Parties  MOVIE   \n",
              "5805   ts271048   Mighty Little Bheem: Kite Festival   SHOW   \n",
              "\n",
              "                                            description  release_year  \\\n",
              "0     This collection includes 12 World War II-era p...          1945   \n",
              "1     A mentally unstable Vietnam War veteran works ...          1976   \n",
              "2     King Arthur, accompanied by his squire, recrui...          1975   \n",
              "3     Brian Cohen is an average young Jewish man, bu...          1979   \n",
              "4     12-year-old Regan MacNeil begins to adapt an e...          1973   \n",
              "...                                                 ...           ...   \n",
              "5801  A beautiful love story that can happen between...          2021   \n",
              "5802  Rising star Edis's career journey with ups and...          2021   \n",
              "5803  A man from Nigeria returns to his family in Ca...          2021   \n",
              "5804  A family faces destruction in a long-running c...          2021   \n",
              "5805  With winter behind them, Bheem and his townspe...          2021   \n",
              "\n",
              "     age_certification  runtime                             genres  \\\n",
              "0                TV-MA       48                  ['documentation']   \n",
              "1                    R      113                 ['crime', 'drama']   \n",
              "2                   PG       91              ['comedy', 'fantasy']   \n",
              "3                    R       94                         ['comedy']   \n",
              "4                    R      133                         ['horror']   \n",
              "...                ...      ...                                ...   \n",
              "5801               NaN      100               ['romance', 'drama']   \n",
              "5802               NaN       74         ['music', 'documentation']   \n",
              "5803               NaN       88                ['family', 'drama']   \n",
              "5804               NaN      116             ['action', 'thriller']   \n",
              "5805               NaN        0  ['family', 'comedy', 'animation']   \n",
              "\n",
              "     production_countries  seasons     imdb_id  imdb_score  imdb_votes  \\\n",
              "0                  ['US']      1.0         NaN         NaN         NaN   \n",
              "1                  ['US']      NaN   tt0075314         8.3    795222.0   \n",
              "2                  ['GB']      NaN   tt0071853         8.2    530877.0   \n",
              "3                  ['GB']      NaN   tt0079470         8.0    392419.0   \n",
              "4                  ['US']      NaN   tt0070047         8.1    391942.0   \n",
              "...                   ...      ...         ...         ...         ...   \n",
              "5801               ['NG']      NaN  tt13857480         6.9        39.0   \n",
              "5802                   []      NaN         NaN         NaN         NaN   \n",
              "5803         ['NG', 'CA']      NaN  tt14620732         6.5        32.0   \n",
              "5804                   []      NaN  tt10168094         6.2         9.0   \n",
              "5805                   []      1.0  tt13711094         8.8        16.0   \n",
              "\n",
              "      tmdb_popularity  tmdb_score  \n",
              "0               0.600         NaN  \n",
              "1              27.612         8.2  \n",
              "2              18.216         7.8  \n",
              "3              17.505         7.8  \n",
              "4              95.337         7.7  \n",
              "...               ...         ...  \n",
              "5801            0.966         NaN  \n",
              "5802            1.036         8.5  \n",
              "5803            0.709         NaN  \n",
              "5804            2.186         NaN  \n",
              "5805            0.979        10.0  \n",
              "\n",
              "[5806 rows x 15 columns]"
            ]
          },
          "execution_count": 8,
          "metadata": {},
          "output_type": "execute_result"
        }
      ],
      "source": [
        "df"
      ]
    },
    {
      "cell_type": "markdown",
      "metadata": {
        "id": "_TKmtl9lsdbq"
      },
      "source": [
        "The Dataset contains over 5000 rows and 5 columns. The columns show the information about the TV Shows and Movies such as release year, age certification, imdb_score, genre etc."
      ]
    },
    {
      "cell_type": "markdown",
      "metadata": {
        "id": "PCnOyH51sdbr"
      },
      "source": [
        "Let's view the list of columns in the dataframe"
      ]
    },
    {
      "cell_type": "code",
      "execution_count": null,
      "metadata": {
        "scrolled": true,
        "id": "336FVopUsdbr",
        "outputId": "94b849a4-8ed2-4dc6-e6ea-ab5f1d878b16"
      },
      "outputs": [
        {
          "data": {
            "text/plain": [
              "Index(['id', 'title', 'type', 'description', 'release_year',\n",
              "       'age_certification', 'runtime', 'genres', 'production_countries',\n",
              "       'seasons', 'imdb_id', 'imdb_score', 'imdb_votes', 'tmdb_popularity',\n",
              "       'tmdb_score'],\n",
              "      dtype='object')"
            ]
          },
          "execution_count": 9,
          "metadata": {},
          "output_type": "execute_result"
        }
      ],
      "source": [
        "df.columns"
      ]
    },
    {
      "cell_type": "markdown",
      "metadata": {
        "id": "tjoa1Z_Xsdbr"
      },
      "source": [
        "It can be observed that the columns contain parameters related to the title of the TV Show and Movies of the Netflix Streaming."
      ]
    },
    {
      "cell_type": "code",
      "execution_count": null,
      "metadata": {
        "id": "3fL5LCECsdbs",
        "outputId": "565b3cd7-a88a-4fef-8f6f-e3726c441149"
      },
      "outputs": [
        {
          "data": {
            "text/plain": [
              "pandas.core.frame.DataFrame"
            ]
          },
          "execution_count": 10,
          "metadata": {},
          "output_type": "execute_result"
        }
      ],
      "source": [
        "type(df)"
      ]
    },
    {
      "cell_type": "markdown",
      "metadata": {
        "id": "AB3kX_-Jsdbs"
      },
      "source": [
        "Each column is represented using a data structure called Series, which is essentially a numpy array with some additional features"
      ]
    },
    {
      "cell_type": "code",
      "execution_count": null,
      "metadata": {
        "id": "pNb7m_nGsdbt",
        "outputId": "7e2f8589-8076-4166-9e6a-7c747e859464"
      },
      "outputs": [
        {
          "data": {
            "text/plain": [
              "0       1945\n",
              "1       1976\n",
              "2       1975\n",
              "3       1979\n",
              "4       1973\n",
              "        ... \n",
              "5801    2021\n",
              "5802    2021\n",
              "5803    2021\n",
              "5804    2021\n",
              "5805    2021\n",
              "Name: release_year, Length: 5806, dtype: int64"
            ]
          },
          "execution_count": 11,
          "metadata": {},
          "output_type": "execute_result"
        }
      ],
      "source": [
        "df['release_year']"
      ]
    },
    {
      "cell_type": "markdown",
      "metadata": {
        "id": "p0z0dQbFsdbt"
      },
      "source": [
        "Similar to arrays, we can retrieve a specific value using the indexing notation []."
      ]
    },
    {
      "cell_type": "code",
      "execution_count": null,
      "metadata": {
        "id": "guciiBH6sdbt",
        "outputId": "9f985c12-48be-403c-efe4-5c58ecbe51bf"
      },
      "outputs": [
        {
          "data": {
            "text/plain": [
              "2007"
            ]
          },
          "execution_count": 12,
          "metadata": {},
          "output_type": "execute_result"
        }
      ],
      "source": [
        "df['release_year'][546]"
      ]
    },
    {
      "cell_type": "markdown",
      "metadata": {
        "id": "656i7Fi1sdbu"
      },
      "source": [
        "There is also an other method to retireve the values at a specific row and column"
      ]
    },
    {
      "cell_type": "code",
      "execution_count": null,
      "metadata": {
        "id": "-9Q8IVlBsdbu",
        "outputId": "d7904cc1-4152-4467-f7c1-632ce48089b1"
      },
      "outputs": [
        {
          "data": {
            "text/plain": [
              "2019"
            ]
          },
          "execution_count": 13,
          "metadata": {},
          "output_type": "execute_result"
        }
      ],
      "source": [
        "df.at[4564, 'release_year']"
      ]
    },
    {
      "cell_type": "markdown",
      "metadata": {
        "id": "6KdsP9LGsdbv"
      },
      "source": [
        "We can also pass a list of columns to create a subset of the dataset"
      ]
    },
    {
      "cell_type": "code",
      "execution_count": null,
      "metadata": {
        "id": "RHhtEdM2sdbv"
      },
      "outputs": [],
      "source": [
        "sample_df = df[['type','release_year']]\n"
      ]
    },
    {
      "cell_type": "code",
      "execution_count": null,
      "metadata": {
        "id": "0R2Rri6xsdbw",
        "outputId": "3f438be7-cc38-4d79-8c38-9f0506116068"
      },
      "outputs": [
        {
          "data": {
            "text/html": [
              "<div>\n",
              "<style scoped>\n",
              "    .dataframe tbody tr th:only-of-type {\n",
              "        vertical-align: middle;\n",
              "    }\n",
              "\n",
              "    .dataframe tbody tr th {\n",
              "        vertical-align: top;\n",
              "    }\n",
              "\n",
              "    .dataframe thead th {\n",
              "        text-align: right;\n",
              "    }\n",
              "</style>\n",
              "<table border=\"1\" class=\"dataframe\">\n",
              "  <thead>\n",
              "    <tr style=\"text-align: right;\">\n",
              "      <th></th>\n",
              "      <th>type</th>\n",
              "      <th>release_year</th>\n",
              "    </tr>\n",
              "  </thead>\n",
              "  <tbody>\n",
              "    <tr>\n",
              "      <th>0</th>\n",
              "      <td>SHOW</td>\n",
              "      <td>1945</td>\n",
              "    </tr>\n",
              "    <tr>\n",
              "      <th>1</th>\n",
              "      <td>MOVIE</td>\n",
              "      <td>1976</td>\n",
              "    </tr>\n",
              "    <tr>\n",
              "      <th>2</th>\n",
              "      <td>MOVIE</td>\n",
              "      <td>1975</td>\n",
              "    </tr>\n",
              "    <tr>\n",
              "      <th>3</th>\n",
              "      <td>MOVIE</td>\n",
              "      <td>1979</td>\n",
              "    </tr>\n",
              "    <tr>\n",
              "      <th>4</th>\n",
              "      <td>MOVIE</td>\n",
              "      <td>1973</td>\n",
              "    </tr>\n",
              "    <tr>\n",
              "      <th>...</th>\n",
              "      <td>...</td>\n",
              "      <td>...</td>\n",
              "    </tr>\n",
              "    <tr>\n",
              "      <th>5801</th>\n",
              "      <td>MOVIE</td>\n",
              "      <td>2021</td>\n",
              "    </tr>\n",
              "    <tr>\n",
              "      <th>5802</th>\n",
              "      <td>MOVIE</td>\n",
              "      <td>2021</td>\n",
              "    </tr>\n",
              "    <tr>\n",
              "      <th>5803</th>\n",
              "      <td>MOVIE</td>\n",
              "      <td>2021</td>\n",
              "    </tr>\n",
              "    <tr>\n",
              "      <th>5804</th>\n",
              "      <td>MOVIE</td>\n",
              "      <td>2021</td>\n",
              "    </tr>\n",
              "    <tr>\n",
              "      <th>5805</th>\n",
              "      <td>SHOW</td>\n",
              "      <td>2021</td>\n",
              "    </tr>\n",
              "  </tbody>\n",
              "</table>\n",
              "<p>5806 rows × 2 columns</p>\n",
              "</div>"
            ],
            "text/plain": [
              "       type  release_year\n",
              "0      SHOW          1945\n",
              "1     MOVIE          1976\n",
              "2     MOVIE          1975\n",
              "3     MOVIE          1979\n",
              "4     MOVIE          1973\n",
              "...     ...           ...\n",
              "5801  MOVIE          2021\n",
              "5802  MOVIE          2021\n",
              "5803  MOVIE          2021\n",
              "5804  MOVIE          2021\n",
              "5805   SHOW          2021\n",
              "\n",
              "[5806 rows x 2 columns]"
            ]
          },
          "execution_count": 15,
          "metadata": {},
          "output_type": "execute_result"
        }
      ],
      "source": [
        "sample_df"
      ]
    },
    {
      "cell_type": "markdown",
      "metadata": {
        "id": "Aarygee2sdbw"
      },
      "source": [
        "We also have .loc to access a specific row of the dataframe"
      ]
    },
    {
      "cell_type": "code",
      "execution_count": null,
      "metadata": {
        "id": "HPY4abWcsdbw",
        "outputId": "cba979f2-ed9e-4ece-8129-5572881a0209"
      },
      "outputs": [
        {
          "data": {
            "text/plain": [
              "id                                                               tm817284\n",
              "title                                                          Bridezilla\n",
              "type                                                                MOVIE\n",
              "description             After failing to deliver for a demanding bride...\n",
              "release_year                                                         2019\n",
              "age_certification                                                     NaN\n",
              "runtime                                                                93\n",
              "genres                                     ['romance', 'drama', 'comedy']\n",
              "production_countries                                               ['ID']\n",
              "seasons                                                               NaN\n",
              "imdb_id                                                        tt10589924\n",
              "imdb_score                                                            6.1\n",
              "imdb_votes                                                           51.0\n",
              "tmdb_popularity                                                     2.351\n",
              "tmdb_score                                                            5.8\n",
              "Name: 4363, dtype: object"
            ]
          },
          "execution_count": 16,
          "metadata": {},
          "output_type": "execute_result"
        }
      ],
      "source": [
        "df.loc[4363]"
      ]
    },
    {
      "cell_type": "markdown",
      "metadata": {
        "id": "YaBiPLIYsdbx"
      },
      "source": [
        "Let's look at a few rows before and after this index to verify that the values change from NaN to actual numbers. We can do this by passing a range to loc."
      ]
    },
    {
      "cell_type": "code",
      "execution_count": null,
      "metadata": {
        "id": "WEoVDo3ksdby",
        "outputId": "dfc92b90-d5a8-41ab-f875-0def4301497a"
      },
      "outputs": [
        {
          "data": {
            "text/html": [
              "<div>\n",
              "<style scoped>\n",
              "    .dataframe tbody tr th:only-of-type {\n",
              "        vertical-align: middle;\n",
              "    }\n",
              "\n",
              "    .dataframe tbody tr th {\n",
              "        vertical-align: top;\n",
              "    }\n",
              "\n",
              "    .dataframe thead th {\n",
              "        text-align: right;\n",
              "    }\n",
              "</style>\n",
              "<table border=\"1\" class=\"dataframe\">\n",
              "  <thead>\n",
              "    <tr style=\"text-align: right;\">\n",
              "      <th></th>\n",
              "      <th>id</th>\n",
              "      <th>title</th>\n",
              "      <th>type</th>\n",
              "      <th>description</th>\n",
              "      <th>release_year</th>\n",
              "      <th>age_certification</th>\n",
              "      <th>runtime</th>\n",
              "      <th>genres</th>\n",
              "      <th>production_countries</th>\n",
              "      <th>seasons</th>\n",
              "      <th>imdb_id</th>\n",
              "      <th>imdb_score</th>\n",
              "      <th>imdb_votes</th>\n",
              "      <th>tmdb_popularity</th>\n",
              "      <th>tmdb_score</th>\n",
              "    </tr>\n",
              "  </thead>\n",
              "  <tbody>\n",
              "    <tr>\n",
              "      <th>354</th>\n",
              "      <td>tm176528</td>\n",
              "      <td>Memoirs of a Geisha</td>\n",
              "      <td>MOVIE</td>\n",
              "      <td>A sweeping romantic epic set in Japan in the y...</td>\n",
              "      <td>2005</td>\n",
              "      <td>PG-13</td>\n",
              "      <td>145</td>\n",
              "      <td>['drama', 'romance', 'european']</td>\n",
              "      <td>['FR', 'JP', 'US']</td>\n",
              "      <td>NaN</td>\n",
              "      <td>tt0397535</td>\n",
              "      <td>7.3</td>\n",
              "      <td>146847.0</td>\n",
              "      <td>25.556</td>\n",
              "      <td>7.7</td>\n",
              "    </tr>\n",
              "    <tr>\n",
              "      <th>355</th>\n",
              "      <td>tm102337</td>\n",
              "      <td>A Nightmare on Elm Street</td>\n",
              "      <td>MOVIE</td>\n",
              "      <td>The film that brings back horror icon Freddy K...</td>\n",
              "      <td>2010</td>\n",
              "      <td>R</td>\n",
              "      <td>95</td>\n",
              "      <td>['horror', 'thriller', 'crime', 'drama']</td>\n",
              "      <td>['US']</td>\n",
              "      <td>NaN</td>\n",
              "      <td>tt1179056</td>\n",
              "      <td>5.2</td>\n",
              "      <td>99192.0</td>\n",
              "      <td>46.304</td>\n",
              "      <td>5.5</td>\n",
              "    </tr>\n",
              "    <tr>\n",
              "      <th>356</th>\n",
              "      <td>tm36188</td>\n",
              "      <td>Body of Lies</td>\n",
              "      <td>MOVIE</td>\n",
              "      <td>The CIA’s hunt is on for the mastermind of a w...</td>\n",
              "      <td>2008</td>\n",
              "      <td>R</td>\n",
              "      <td>128</td>\n",
              "      <td>['drama', 'action', 'thriller']</td>\n",
              "      <td>['GB', 'US']</td>\n",
              "      <td>NaN</td>\n",
              "      <td>tt0758774</td>\n",
              "      <td>7.1</td>\n",
              "      <td>224896.0</td>\n",
              "      <td>16.693</td>\n",
              "      <td>6.6</td>\n",
              "    </tr>\n",
              "    <tr>\n",
              "      <th>357</th>\n",
              "      <td>tm88382</td>\n",
              "      <td>A Cinderella Story</td>\n",
              "      <td>MOVIE</td>\n",
              "      <td>Routinely exploited by her wicked stepmother, ...</td>\n",
              "      <td>2004</td>\n",
              "      <td>PG</td>\n",
              "      <td>95</td>\n",
              "      <td>['romance', 'comedy', 'family']</td>\n",
              "      <td>['CA', 'US']</td>\n",
              "      <td>NaN</td>\n",
              "      <td>tt0356470</td>\n",
              "      <td>5.9</td>\n",
              "      <td>86395.0</td>\n",
              "      <td>31.774</td>\n",
              "      <td>6.5</td>\n",
              "    </tr>\n",
              "    <tr>\n",
              "      <th>358</th>\n",
              "      <td>ts31263</td>\n",
              "      <td>The Mole</td>\n",
              "      <td>SHOW</td>\n",
              "      <td>Players working as a team complete a series of...</td>\n",
              "      <td>2001</td>\n",
              "      <td>TV-14</td>\n",
              "      <td>52</td>\n",
              "      <td>['reality']</td>\n",
              "      <td>['US', 'BE']</td>\n",
              "      <td>5.0</td>\n",
              "      <td>tt0294149</td>\n",
              "      <td>7.6</td>\n",
              "      <td>1104.0</td>\n",
              "      <td>4.376</td>\n",
              "      <td>7.8</td>\n",
              "    </tr>\n",
              "    <tr>\n",
              "      <th>...</th>\n",
              "      <td>...</td>\n",
              "      <td>...</td>\n",
              "      <td>...</td>\n",
              "      <td>...</td>\n",
              "      <td>...</td>\n",
              "      <td>...</td>\n",
              "      <td>...</td>\n",
              "      <td>...</td>\n",
              "      <td>...</td>\n",
              "      <td>...</td>\n",
              "      <td>...</td>\n",
              "      <td>...</td>\n",
              "      <td>...</td>\n",
              "      <td>...</td>\n",
              "      <td>...</td>\n",
              "    </tr>\n",
              "    <tr>\n",
              "      <th>4517</th>\n",
              "      <td>ts90466</td>\n",
              "      <td>Hong Kong West Side Stories</td>\n",
              "      <td>SHOW</td>\n",
              "      <td>The intimate lives of young men and women from...</td>\n",
              "      <td>2019</td>\n",
              "      <td>TV-MA</td>\n",
              "      <td>23</td>\n",
              "      <td>['drama', 'comedy']</td>\n",
              "      <td>['HK']</td>\n",
              "      <td>2.0</td>\n",
              "      <td>tt10284430</td>\n",
              "      <td>5.7</td>\n",
              "      <td>6.0</td>\n",
              "      <td>3.240</td>\n",
              "      <td>8.3</td>\n",
              "    </tr>\n",
              "    <tr>\n",
              "      <th>4518</th>\n",
              "      <td>tm920320</td>\n",
              "      <td>Lift Like a Girl</td>\n",
              "      <td>MOVIE</td>\n",
              "      <td>An intimate journey into the inner life of an ...</td>\n",
              "      <td>2020</td>\n",
              "      <td>NaN</td>\n",
              "      <td>93</td>\n",
              "      <td>['documentation']</td>\n",
              "      <td>['DK', 'EG', 'DE']</td>\n",
              "      <td>NaN</td>\n",
              "      <td>tt7240536</td>\n",
              "      <td>7.8</td>\n",
              "      <td>208.0</td>\n",
              "      <td>1.551</td>\n",
              "      <td>7.0</td>\n",
              "    </tr>\n",
              "    <tr>\n",
              "      <th>4519</th>\n",
              "      <td>tm476922</td>\n",
              "      <td>Wanted - Matloubin</td>\n",
              "      <td>MOVIE</td>\n",
              "      <td>Wanted is a very human comedy about four old p...</td>\n",
              "      <td>2019</td>\n",
              "      <td>NaN</td>\n",
              "      <td>90</td>\n",
              "      <td>['comedy', 'drama']</td>\n",
              "      <td>['LB']</td>\n",
              "      <td>NaN</td>\n",
              "      <td>tt9194246</td>\n",
              "      <td>7.2</td>\n",
              "      <td>616.0</td>\n",
              "      <td>NaN</td>\n",
              "      <td>NaN</td>\n",
              "    </tr>\n",
              "    <tr>\n",
              "      <th>4520</th>\n",
              "      <td>tm467955</td>\n",
              "      <td>Francesco De Carlo: Cose di Questo Mondo</td>\n",
              "      <td>MOVIE</td>\n",
              "      <td>Taking to the stage in Milan, Francesco de Car...</td>\n",
              "      <td>2019</td>\n",
              "      <td>NaN</td>\n",
              "      <td>61</td>\n",
              "      <td>['comedy']</td>\n",
              "      <td>[]</td>\n",
              "      <td>NaN</td>\n",
              "      <td>tt10087952</td>\n",
              "      <td>6.3</td>\n",
              "      <td>110.0</td>\n",
              "      <td>2.082</td>\n",
              "      <td>7.0</td>\n",
              "    </tr>\n",
              "    <tr>\n",
              "      <th>4521</th>\n",
              "      <td>tm976168</td>\n",
              "      <td>Gone</td>\n",
              "      <td>MOVIE</td>\n",
              "      <td>Alex and Thomas Bradburry experience a series ...</td>\n",
              "      <td>2020</td>\n",
              "      <td>NaN</td>\n",
              "      <td>15</td>\n",
              "      <td>['horror', 'drama']</td>\n",
              "      <td>['AU']</td>\n",
              "      <td>NaN</td>\n",
              "      <td>tt15140954</td>\n",
              "      <td>7.1</td>\n",
              "      <td>18.0</td>\n",
              "      <td>1.174</td>\n",
              "      <td>NaN</td>\n",
              "    </tr>\n",
              "  </tbody>\n",
              "</table>\n",
              "<p>4168 rows × 15 columns</p>\n",
              "</div>"
            ],
            "text/plain": [
              "            id                                     title   type  \\\n",
              "354   tm176528                       Memoirs of a Geisha  MOVIE   \n",
              "355   tm102337                 A Nightmare on Elm Street  MOVIE   \n",
              "356    tm36188                              Body of Lies  MOVIE   \n",
              "357    tm88382                        A Cinderella Story  MOVIE   \n",
              "358    ts31263                                  The Mole   SHOW   \n",
              "...        ...                                       ...    ...   \n",
              "4517   ts90466               Hong Kong West Side Stories   SHOW   \n",
              "4518  tm920320                          Lift Like a Girl  MOVIE   \n",
              "4519  tm476922                        Wanted - Matloubin  MOVIE   \n",
              "4520  tm467955  Francesco De Carlo: Cose di Questo Mondo  MOVIE   \n",
              "4521  tm976168                                      Gone  MOVIE   \n",
              "\n",
              "                                            description  release_year  \\\n",
              "354   A sweeping romantic epic set in Japan in the y...          2005   \n",
              "355   The film that brings back horror icon Freddy K...          2010   \n",
              "356   The CIA’s hunt is on for the mastermind of a w...          2008   \n",
              "357   Routinely exploited by her wicked stepmother, ...          2004   \n",
              "358   Players working as a team complete a series of...          2001   \n",
              "...                                                 ...           ...   \n",
              "4517  The intimate lives of young men and women from...          2019   \n",
              "4518  An intimate journey into the inner life of an ...          2020   \n",
              "4519  Wanted is a very human comedy about four old p...          2019   \n",
              "4520  Taking to the stage in Milan, Francesco de Car...          2019   \n",
              "4521  Alex and Thomas Bradburry experience a series ...          2020   \n",
              "\n",
              "     age_certification  runtime                                    genres  \\\n",
              "354              PG-13      145          ['drama', 'romance', 'european']   \n",
              "355                  R       95  ['horror', 'thriller', 'crime', 'drama']   \n",
              "356                  R      128           ['drama', 'action', 'thriller']   \n",
              "357                 PG       95           ['romance', 'comedy', 'family']   \n",
              "358              TV-14       52                               ['reality']   \n",
              "...                ...      ...                                       ...   \n",
              "4517             TV-MA       23                       ['drama', 'comedy']   \n",
              "4518               NaN       93                         ['documentation']   \n",
              "4519               NaN       90                       ['comedy', 'drama']   \n",
              "4520               NaN       61                                ['comedy']   \n",
              "4521               NaN       15                       ['horror', 'drama']   \n",
              "\n",
              "     production_countries  seasons     imdb_id  imdb_score  imdb_votes  \\\n",
              "354    ['FR', 'JP', 'US']      NaN   tt0397535         7.3    146847.0   \n",
              "355                ['US']      NaN   tt1179056         5.2     99192.0   \n",
              "356          ['GB', 'US']      NaN   tt0758774         7.1    224896.0   \n",
              "357          ['CA', 'US']      NaN   tt0356470         5.9     86395.0   \n",
              "358          ['US', 'BE']      5.0   tt0294149         7.6      1104.0   \n",
              "...                   ...      ...         ...         ...         ...   \n",
              "4517               ['HK']      2.0  tt10284430         5.7         6.0   \n",
              "4518   ['DK', 'EG', 'DE']      NaN   tt7240536         7.8       208.0   \n",
              "4519               ['LB']      NaN   tt9194246         7.2       616.0   \n",
              "4520                   []      NaN  tt10087952         6.3       110.0   \n",
              "4521               ['AU']      NaN  tt15140954         7.1        18.0   \n",
              "\n",
              "      tmdb_popularity  tmdb_score  \n",
              "354            25.556         7.7  \n",
              "355            46.304         5.5  \n",
              "356            16.693         6.6  \n",
              "357            31.774         6.5  \n",
              "358             4.376         7.8  \n",
              "...               ...         ...  \n",
              "4517            3.240         8.3  \n",
              "4518            1.551         7.0  \n",
              "4519              NaN         NaN  \n",
              "4520            2.082         7.0  \n",
              "4521            1.174         NaN  \n",
              "\n",
              "[4168 rows x 15 columns]"
            ]
          },
          "execution_count": 17,
          "metadata": {},
          "output_type": "execute_result"
        }
      ],
      "source": [
        "df.loc[354:4521]"
      ]
    },
    {
      "cell_type": "markdown",
      "metadata": {
        "id": "nZZoWq-Dsdby"
      },
      "source": [
        "## Data Preparation and Cleaning\n",
        "\n",
        "### We can observe that there are several columns that define and add value to the title column of the TV Shows and movies.\n",
        "     We will therefore limit our analysis to the following:\n",
        "            >> ID, title which is unique to each and every row \n",
        "            >> Description about the title such as show type , release year, Run time and genre\n",
        "            >> Production countries and IMDB Score"
      ]
    },
    {
      "cell_type": "code",
      "execution_count": null,
      "metadata": {
        "id": "kmiqAx2Fsdby"
      },
      "outputs": [],
      "source": [
        "selected_columns = ['id',\n",
        "                   'title',\n",
        "                   'type',\n",
        "                   'release_year',\n",
        "                    'runtime',\n",
        "                   'genres',\n",
        "                   'imdb_score']"
      ]
    },
    {
      "cell_type": "code",
      "execution_count": null,
      "metadata": {
        "id": "TAuJaGJAsdby",
        "outputId": "691b8481-0247-4af0-f083-7495ffa08665"
      },
      "outputs": [
        {
          "data": {
            "text/plain": [
              "7"
            ]
          },
          "execution_count": 19,
          "metadata": {},
          "output_type": "execute_result"
        }
      ],
      "source": [
        "len(selected_columns)"
      ]
    },
    {
      "cell_type": "markdown",
      "metadata": {
        "id": "MubK8uF5sdbz"
      },
      "source": [
        "We'll make a copy of the data from these columns into a new dataframe df1. We can now modify this dataframe without affecting the original dataframe"
      ]
    },
    {
      "cell_type": "code",
      "execution_count": null,
      "metadata": {
        "id": "V0lz4yxYsdbz"
      },
      "outputs": [],
      "source": [
        "df1 = df[selected_columns].copy()"
      ]
    },
    {
      "cell_type": "code",
      "execution_count": null,
      "metadata": {
        "id": "LUh7XE9qsdb0",
        "outputId": "bfee8f83-e96c-4f14-f563-2ac08243dbc4"
      },
      "outputs": [
        {
          "data": {
            "text/html": [
              "<div>\n",
              "<style scoped>\n",
              "    .dataframe tbody tr th:only-of-type {\n",
              "        vertical-align: middle;\n",
              "    }\n",
              "\n",
              "    .dataframe tbody tr th {\n",
              "        vertical-align: top;\n",
              "    }\n",
              "\n",
              "    .dataframe thead th {\n",
              "        text-align: right;\n",
              "    }\n",
              "</style>\n",
              "<table border=\"1\" class=\"dataframe\">\n",
              "  <thead>\n",
              "    <tr style=\"text-align: right;\">\n",
              "      <th></th>\n",
              "      <th>id</th>\n",
              "      <th>title</th>\n",
              "      <th>type</th>\n",
              "      <th>release_year</th>\n",
              "      <th>runtime</th>\n",
              "      <th>genres</th>\n",
              "      <th>imdb_score</th>\n",
              "    </tr>\n",
              "  </thead>\n",
              "  <tbody>\n",
              "    <tr>\n",
              "      <th>0</th>\n",
              "      <td>ts300399</td>\n",
              "      <td>Five Came Back: The Reference Films</td>\n",
              "      <td>SHOW</td>\n",
              "      <td>1945</td>\n",
              "      <td>48</td>\n",
              "      <td>['documentation']</td>\n",
              "      <td>NaN</td>\n",
              "    </tr>\n",
              "    <tr>\n",
              "      <th>1</th>\n",
              "      <td>tm84618</td>\n",
              "      <td>Taxi Driver</td>\n",
              "      <td>MOVIE</td>\n",
              "      <td>1976</td>\n",
              "      <td>113</td>\n",
              "      <td>['crime', 'drama']</td>\n",
              "      <td>8.3</td>\n",
              "    </tr>\n",
              "    <tr>\n",
              "      <th>2</th>\n",
              "      <td>tm127384</td>\n",
              "      <td>Monty Python and the Holy Grail</td>\n",
              "      <td>MOVIE</td>\n",
              "      <td>1975</td>\n",
              "      <td>91</td>\n",
              "      <td>['comedy', 'fantasy']</td>\n",
              "      <td>8.2</td>\n",
              "    </tr>\n",
              "    <tr>\n",
              "      <th>3</th>\n",
              "      <td>tm70993</td>\n",
              "      <td>Life of Brian</td>\n",
              "      <td>MOVIE</td>\n",
              "      <td>1979</td>\n",
              "      <td>94</td>\n",
              "      <td>['comedy']</td>\n",
              "      <td>8.0</td>\n",
              "    </tr>\n",
              "    <tr>\n",
              "      <th>4</th>\n",
              "      <td>tm190788</td>\n",
              "      <td>The Exorcist</td>\n",
              "      <td>MOVIE</td>\n",
              "      <td>1973</td>\n",
              "      <td>133</td>\n",
              "      <td>['horror']</td>\n",
              "      <td>8.1</td>\n",
              "    </tr>\n",
              "    <tr>\n",
              "      <th>...</th>\n",
              "      <td>...</td>\n",
              "      <td>...</td>\n",
              "      <td>...</td>\n",
              "      <td>...</td>\n",
              "      <td>...</td>\n",
              "      <td>...</td>\n",
              "      <td>...</td>\n",
              "    </tr>\n",
              "    <tr>\n",
              "      <th>5801</th>\n",
              "      <td>tm1014599</td>\n",
              "      <td>Fine Wine</td>\n",
              "      <td>MOVIE</td>\n",
              "      <td>2021</td>\n",
              "      <td>100</td>\n",
              "      <td>['romance', 'drama']</td>\n",
              "      <td>6.9</td>\n",
              "    </tr>\n",
              "    <tr>\n",
              "      <th>5802</th>\n",
              "      <td>tm1108171</td>\n",
              "      <td>Edis Starlight</td>\n",
              "      <td>MOVIE</td>\n",
              "      <td>2021</td>\n",
              "      <td>74</td>\n",
              "      <td>['music', 'documentation']</td>\n",
              "      <td>NaN</td>\n",
              "    </tr>\n",
              "    <tr>\n",
              "      <th>5803</th>\n",
              "      <td>tm1045018</td>\n",
              "      <td>Clash</td>\n",
              "      <td>MOVIE</td>\n",
              "      <td>2021</td>\n",
              "      <td>88</td>\n",
              "      <td>['family', 'drama']</td>\n",
              "      <td>6.5</td>\n",
              "    </tr>\n",
              "    <tr>\n",
              "      <th>5804</th>\n",
              "      <td>tm1098060</td>\n",
              "      <td>Shadow Parties</td>\n",
              "      <td>MOVIE</td>\n",
              "      <td>2021</td>\n",
              "      <td>116</td>\n",
              "      <td>['action', 'thriller']</td>\n",
              "      <td>6.2</td>\n",
              "    </tr>\n",
              "    <tr>\n",
              "      <th>5805</th>\n",
              "      <td>ts271048</td>\n",
              "      <td>Mighty Little Bheem: Kite Festival</td>\n",
              "      <td>SHOW</td>\n",
              "      <td>2021</td>\n",
              "      <td>0</td>\n",
              "      <td>['family', 'comedy', 'animation']</td>\n",
              "      <td>8.8</td>\n",
              "    </tr>\n",
              "  </tbody>\n",
              "</table>\n",
              "<p>5806 rows × 7 columns</p>\n",
              "</div>"
            ],
            "text/plain": [
              "             id                                title   type  release_year  \\\n",
              "0      ts300399  Five Came Back: The Reference Films   SHOW          1945   \n",
              "1       tm84618                          Taxi Driver  MOVIE          1976   \n",
              "2      tm127384      Monty Python and the Holy Grail  MOVIE          1975   \n",
              "3       tm70993                        Life of Brian  MOVIE          1979   \n",
              "4      tm190788                         The Exorcist  MOVIE          1973   \n",
              "...         ...                                  ...    ...           ...   \n",
              "5801  tm1014599                            Fine Wine  MOVIE          2021   \n",
              "5802  tm1108171                       Edis Starlight  MOVIE          2021   \n",
              "5803  tm1045018                                Clash  MOVIE          2021   \n",
              "5804  tm1098060                       Shadow Parties  MOVIE          2021   \n",
              "5805   ts271048   Mighty Little Bheem: Kite Festival   SHOW          2021   \n",
              "\n",
              "      runtime                             genres  imdb_score  \n",
              "0          48                  ['documentation']         NaN  \n",
              "1         113                 ['crime', 'drama']         8.3  \n",
              "2          91              ['comedy', 'fantasy']         8.2  \n",
              "3          94                         ['comedy']         8.0  \n",
              "4         133                         ['horror']         8.1  \n",
              "...       ...                                ...         ...  \n",
              "5801      100               ['romance', 'drama']         6.9  \n",
              "5802       74         ['music', 'documentation']         NaN  \n",
              "5803       88                ['family', 'drama']         6.5  \n",
              "5804      116             ['action', 'thriller']         6.2  \n",
              "5805        0  ['family', 'comedy', 'animation']         8.8  \n",
              "\n",
              "[5806 rows x 7 columns]"
            ]
          },
          "execution_count": 21,
          "metadata": {},
          "output_type": "execute_result"
        }
      ],
      "source": [
        "df1"
      ]
    },
    {
      "cell_type": "markdown",
      "metadata": {
        "id": "Rtf2A5OFsdb1"
      },
      "source": [
        "We will now look at some basic information about the dataframe"
      ]
    },
    {
      "cell_type": "code",
      "execution_count": null,
      "metadata": {
        "id": "lbe4bUjpsdb1",
        "outputId": "15fe89dc-7619-4e8a-ce25-bfd89d28f921"
      },
      "outputs": [
        {
          "data": {
            "text/plain": [
              "(5806, 7)"
            ]
          },
          "execution_count": 22,
          "metadata": {},
          "output_type": "execute_result"
        }
      ],
      "source": [
        "df1.shape"
      ]
    },
    {
      "cell_type": "code",
      "execution_count": null,
      "metadata": {
        "id": "yixnEkpDsdb3",
        "outputId": "db833f77-55cd-42d7-902f-4193e56af8b1"
      },
      "outputs": [
        {
          "data": {
            "text/html": [
              "<div>\n",
              "<style scoped>\n",
              "    .dataframe tbody tr th:only-of-type {\n",
              "        vertical-align: middle;\n",
              "    }\n",
              "\n",
              "    .dataframe tbody tr th {\n",
              "        vertical-align: top;\n",
              "    }\n",
              "\n",
              "    .dataframe thead th {\n",
              "        text-align: right;\n",
              "    }\n",
              "</style>\n",
              "<table border=\"1\" class=\"dataframe\">\n",
              "  <thead>\n",
              "    <tr style=\"text-align: right;\">\n",
              "      <th></th>\n",
              "      <th>release_year</th>\n",
              "      <th>runtime</th>\n",
              "      <th>imdb_score</th>\n",
              "    </tr>\n",
              "  </thead>\n",
              "  <tbody>\n",
              "    <tr>\n",
              "      <th>count</th>\n",
              "      <td>5806.000000</td>\n",
              "      <td>5806.000000</td>\n",
              "      <td>5283.000000</td>\n",
              "    </tr>\n",
              "    <tr>\n",
              "      <th>mean</th>\n",
              "      <td>2016.013434</td>\n",
              "      <td>77.643989</td>\n",
              "      <td>6.533447</td>\n",
              "    </tr>\n",
              "    <tr>\n",
              "      <th>std</th>\n",
              "      <td>7.324883</td>\n",
              "      <td>39.474160</td>\n",
              "      <td>1.160932</td>\n",
              "    </tr>\n",
              "    <tr>\n",
              "      <th>min</th>\n",
              "      <td>1945.000000</td>\n",
              "      <td>0.000000</td>\n",
              "      <td>1.500000</td>\n",
              "    </tr>\n",
              "    <tr>\n",
              "      <th>25%</th>\n",
              "      <td>2015.000000</td>\n",
              "      <td>44.000000</td>\n",
              "      <td>5.800000</td>\n",
              "    </tr>\n",
              "    <tr>\n",
              "      <th>50%</th>\n",
              "      <td>2018.000000</td>\n",
              "      <td>84.000000</td>\n",
              "      <td>6.600000</td>\n",
              "    </tr>\n",
              "    <tr>\n",
              "      <th>75%</th>\n",
              "      <td>2020.000000</td>\n",
              "      <td>105.000000</td>\n",
              "      <td>7.400000</td>\n",
              "    </tr>\n",
              "    <tr>\n",
              "      <th>max</th>\n",
              "      <td>2022.000000</td>\n",
              "      <td>251.000000</td>\n",
              "      <td>9.600000</td>\n",
              "    </tr>\n",
              "  </tbody>\n",
              "</table>\n",
              "</div>"
            ],
            "text/plain": [
              "       release_year      runtime   imdb_score\n",
              "count   5806.000000  5806.000000  5283.000000\n",
              "mean    2016.013434    77.643989     6.533447\n",
              "std        7.324883    39.474160     1.160932\n",
              "min     1945.000000     0.000000     1.500000\n",
              "25%     2015.000000    44.000000     5.800000\n",
              "50%     2018.000000    84.000000     6.600000\n",
              "75%     2020.000000   105.000000     7.400000\n",
              "max     2022.000000   251.000000     9.600000"
            ]
          },
          "execution_count": 23,
          "metadata": {},
          "output_type": "execute_result"
        }
      ],
      "source": [
        "df1.describe()"
      ]
    },
    {
      "cell_type": "markdown",
      "metadata": {
        "id": "RX1w4YYcsdb4"
      },
      "source": [
        "We have the statistical description about the dataframe in the above cell. We can observe that the column imdb_score has some null values in it. We can either replace the null values with the max or mean value of the column, or we can just remove those certain rows."
      ]
    },
    {
      "cell_type": "code",
      "execution_count": null,
      "metadata": {
        "id": "exbV1MIhsdb4",
        "outputId": "c48e0cca-46c2-456b-8ffc-cec3cdccf298"
      },
      "outputs": [
        {
          "name": "stdout",
          "output_type": "stream",
          "text": [
            "<class 'pandas.core.frame.DataFrame'>\n",
            "RangeIndex: 5806 entries, 0 to 5805\n",
            "Data columns (total 7 columns):\n",
            " #   Column        Non-Null Count  Dtype  \n",
            "---  ------        --------------  -----  \n",
            " 0   id            5806 non-null   object \n",
            " 1   title         5805 non-null   object \n",
            " 2   type          5806 non-null   object \n",
            " 3   release_year  5806 non-null   int64  \n",
            " 4   runtime       5806 non-null   int64  \n",
            " 5   genres        5806 non-null   object \n",
            " 6   imdb_score    5283 non-null   float64\n",
            "dtypes: float64(1), int64(2), object(4)\n",
            "memory usage: 317.6+ KB\n"
          ]
        }
      ],
      "source": [
        "df1.info()"
      ]
    },
    {
      "cell_type": "markdown",
      "metadata": {
        "id": "FkAlKfCHsdb5"
      },
      "source": [
        "We can observe that most of the columns are of the datatype = object. We can find only two numeric columns, release_year and imdb_score which is of int data type and float data type respectively. We can also observe that some of the columns contain the null values in them"
      ]
    },
    {
      "cell_type": "code",
      "execution_count": null,
      "metadata": {
        "id": "vLddaNgJsdb5",
        "outputId": "ff778117-9523-40ba-d7d4-d8f410c7a84d"
      },
      "outputs": [
        {
          "data": {
            "text/plain": [
              "['comedy']                                            510\n",
              "['drama']                                             350\n",
              "['documentation']                                     320\n",
              "['comedy', 'drama']                                   141\n",
              "['drama', 'comedy']                                   128\n",
              "                                                     ... \n",
              "['drama', 'family', 'comedy', 'music']                  1\n",
              "['drama', 'thriller', 'western']                        1\n",
              "['comedy', 'thriller', 'drama', 'action', 'crime']      1\n",
              "['romance', 'drama', 'history', 'european']             1\n",
              "['family', 'comedy', 'animation']                       1\n",
              "Name: genres, Length: 1626, dtype: int64"
            ]
          },
          "execution_count": 25,
          "metadata": {},
          "output_type": "execute_result"
        }
      ],
      "source": [
        "df1['genres'].value_counts()"
      ]
    },
    {
      "cell_type": "code",
      "execution_count": null,
      "metadata": {
        "id": "JfAf_teNsdb5"
      },
      "outputs": [],
      "source": [
        "import numpy as np"
      ]
    },
    {
      "cell_type": "code",
      "execution_count": null,
      "metadata": {
        "id": "TUK-zPPMsdb5",
        "outputId": "b6913141-6086-44a4-e6d4-38db6bdc0868"
      },
      "outputs": [
        {
          "data": {
            "text/html": [
              "<div>\n",
              "<style scoped>\n",
              "    .dataframe tbody tr th:only-of-type {\n",
              "        vertical-align: middle;\n",
              "    }\n",
              "\n",
              "    .dataframe tbody tr th {\n",
              "        vertical-align: top;\n",
              "    }\n",
              "\n",
              "    .dataframe thead th {\n",
              "        text-align: right;\n",
              "    }\n",
              "</style>\n",
              "<table border=\"1\" class=\"dataframe\">\n",
              "  <thead>\n",
              "    <tr style=\"text-align: right;\">\n",
              "      <th></th>\n",
              "      <th>id</th>\n",
              "      <th>title</th>\n",
              "      <th>type</th>\n",
              "      <th>release_year</th>\n",
              "      <th>runtime</th>\n",
              "      <th>genres</th>\n",
              "      <th>imdb_score</th>\n",
              "    </tr>\n",
              "  </thead>\n",
              "  <tbody>\n",
              "    <tr>\n",
              "      <th>4240</th>\n",
              "      <td>tm838705</td>\n",
              "      <td>Holiday Rush</td>\n",
              "      <td>MOVIE</td>\n",
              "      <td>2019</td>\n",
              "      <td>94</td>\n",
              "      <td>['comedy', 'drama', 'romance', 'family']</td>\n",
              "      <td>4.9</td>\n",
              "    </tr>\n",
              "    <tr>\n",
              "      <th>2309</th>\n",
              "      <td>ts55978</td>\n",
              "      <td>Samurai Gourmet</td>\n",
              "      <td>SHOW</td>\n",
              "      <td>2017</td>\n",
              "      <td>22</td>\n",
              "      <td>['comedy']</td>\n",
              "      <td>8.1</td>\n",
              "    </tr>\n",
              "    <tr>\n",
              "      <th>5241</th>\n",
              "      <td>ts317297</td>\n",
              "      <td>The Orbital Children</td>\n",
              "      <td>SHOW</td>\n",
              "      <td>2022</td>\n",
              "      <td>32</td>\n",
              "      <td>['action', 'scifi', 'drama', 'fantasy', 'anima...</td>\n",
              "      <td>6.4</td>\n",
              "    </tr>\n",
              "    <tr>\n",
              "      <th>3400</th>\n",
              "      <td>tm449195</td>\n",
              "      <td>The Boy Who Harnessed the Wind</td>\n",
              "      <td>MOVIE</td>\n",
              "      <td>2019</td>\n",
              "      <td>113</td>\n",
              "      <td>['drama', 'history']</td>\n",
              "      <td>7.6</td>\n",
              "    </tr>\n",
              "    <tr>\n",
              "      <th>3</th>\n",
              "      <td>tm70993</td>\n",
              "      <td>Life of Brian</td>\n",
              "      <td>MOVIE</td>\n",
              "      <td>1979</td>\n",
              "      <td>94</td>\n",
              "      <td>['comedy']</td>\n",
              "      <td>8.0</td>\n",
              "    </tr>\n",
              "    <tr>\n",
              "      <th>3751</th>\n",
              "      <td>ts221363</td>\n",
              "      <td>Criminal: Germany</td>\n",
              "      <td>SHOW</td>\n",
              "      <td>2019</td>\n",
              "      <td>44</td>\n",
              "      <td>['drama', 'crime']</td>\n",
              "      <td>7.7</td>\n",
              "    </tr>\n",
              "    <tr>\n",
              "      <th>100</th>\n",
              "      <td>tm371359</td>\n",
              "      <td>Jaal</td>\n",
              "      <td>MOVIE</td>\n",
              "      <td>1986</td>\n",
              "      <td>159</td>\n",
              "      <td>['drama', 'thriller', 'action']</td>\n",
              "      <td>5.2</td>\n",
              "    </tr>\n",
              "    <tr>\n",
              "      <th>952</th>\n",
              "      <td>ts20261</td>\n",
              "      <td>Madam Secretary</td>\n",
              "      <td>SHOW</td>\n",
              "      <td>2014</td>\n",
              "      <td>43</td>\n",
              "      <td>['war', 'thriller', 'drama']</td>\n",
              "      <td>7.6</td>\n",
              "    </tr>\n",
              "    <tr>\n",
              "      <th>45</th>\n",
              "      <td>tm336403</td>\n",
              "      <td>Khoon Khoon</td>\n",
              "      <td>MOVIE</td>\n",
              "      <td>1973</td>\n",
              "      <td>131</td>\n",
              "      <td>['drama', 'crime', 'thriller']</td>\n",
              "      <td>5.1</td>\n",
              "    </tr>\n",
              "    <tr>\n",
              "      <th>2922</th>\n",
              "      <td>tm430748</td>\n",
              "      <td>Neevevaro</td>\n",
              "      <td>MOVIE</td>\n",
              "      <td>2018</td>\n",
              "      <td>130</td>\n",
              "      <td>['thriller', 'action', 'drama', 'romance']</td>\n",
              "      <td>6.9</td>\n",
              "    </tr>\n",
              "  </tbody>\n",
              "</table>\n",
              "</div>"
            ],
            "text/plain": [
              "            id                           title   type  release_year  runtime  \\\n",
              "4240  tm838705                    Holiday Rush  MOVIE          2019       94   \n",
              "2309   ts55978                 Samurai Gourmet   SHOW          2017       22   \n",
              "5241  ts317297            The Orbital Children   SHOW          2022       32   \n",
              "3400  tm449195  The Boy Who Harnessed the Wind  MOVIE          2019      113   \n",
              "3      tm70993                   Life of Brian  MOVIE          1979       94   \n",
              "3751  ts221363               Criminal: Germany   SHOW          2019       44   \n",
              "100   tm371359                            Jaal  MOVIE          1986      159   \n",
              "952    ts20261                 Madam Secretary   SHOW          2014       43   \n",
              "45    tm336403                     Khoon Khoon  MOVIE          1973      131   \n",
              "2922  tm430748                       Neevevaro  MOVIE          2018      130   \n",
              "\n",
              "                                                 genres  imdb_score  \n",
              "4240           ['comedy', 'drama', 'romance', 'family']         4.9  \n",
              "2309                                         ['comedy']         8.1  \n",
              "5241  ['action', 'scifi', 'drama', 'fantasy', 'anima...         6.4  \n",
              "3400                               ['drama', 'history']         7.6  \n",
              "3                                            ['comedy']         8.0  \n",
              "3751                                 ['drama', 'crime']         7.7  \n",
              "100                     ['drama', 'thriller', 'action']         5.2  \n",
              "952                        ['war', 'thriller', 'drama']         7.6  \n",
              "45                       ['drama', 'crime', 'thriller']         5.1  \n",
              "2922         ['thriller', 'action', 'drama', 'romance']         6.9  "
            ]
          },
          "execution_count": 27,
          "metadata": {},
          "output_type": "execute_result"
        }
      ],
      "source": [
        "df1.sample(10)"
      ]
    },
    {
      "cell_type": "code",
      "execution_count": null,
      "metadata": {
        "id": "M4Mze2ymsdb6",
        "outputId": "51c4095d-1aeb-4529-f54d-e207cda2f83b"
      },
      "outputs": [
        {
          "data": {
            "text/plain": [
              "6.533446905167521"
            ]
          },
          "execution_count": 28,
          "metadata": {},
          "output_type": "execute_result"
        }
      ],
      "source": [
        "mean_imdb_score = df['imdb_score'].mean()\n",
        "mean_imdb_score"
      ]
    },
    {
      "cell_type": "code",
      "execution_count": null,
      "metadata": {
        "id": "yVBXw6KNsdb6"
      },
      "outputs": [],
      "source": [
        "df1['imdb_score'].fillna(value=mean_imdb_score, inplace=True)"
      ]
    },
    {
      "cell_type": "markdown",
      "metadata": {
        "id": "DA_SZonssdb6"
      },
      "source": [
        "Here, we are replacing the null values that were found in the imdb_score column with the average of imdb_score column"
      ]
    },
    {
      "cell_type": "code",
      "execution_count": null,
      "metadata": {
        "id": "8m9Xj4Yrsdb8",
        "outputId": "7227fa81-2e4e-4450-fd45-7146dbb55ac7"
      },
      "outputs": [
        {
          "data": {
            "text/html": [
              "<div>\n",
              "<style scoped>\n",
              "    .dataframe tbody tr th:only-of-type {\n",
              "        vertical-align: middle;\n",
              "    }\n",
              "\n",
              "    .dataframe tbody tr th {\n",
              "        vertical-align: top;\n",
              "    }\n",
              "\n",
              "    .dataframe thead th {\n",
              "        text-align: right;\n",
              "    }\n",
              "</style>\n",
              "<table border=\"1\" class=\"dataframe\">\n",
              "  <thead>\n",
              "    <tr style=\"text-align: right;\">\n",
              "      <th></th>\n",
              "      <th>id</th>\n",
              "      <th>title</th>\n",
              "      <th>type</th>\n",
              "      <th>release_year</th>\n",
              "      <th>runtime</th>\n",
              "      <th>genres</th>\n",
              "      <th>imdb_score</th>\n",
              "    </tr>\n",
              "  </thead>\n",
              "  <tbody>\n",
              "    <tr>\n",
              "      <th>0</th>\n",
              "      <td>ts300399</td>\n",
              "      <td>Five Came Back: The Reference Films</td>\n",
              "      <td>SHOW</td>\n",
              "      <td>1945</td>\n",
              "      <td>48</td>\n",
              "      <td>['documentation']</td>\n",
              "      <td>6.533447</td>\n",
              "    </tr>\n",
              "    <tr>\n",
              "      <th>1</th>\n",
              "      <td>tm84618</td>\n",
              "      <td>Taxi Driver</td>\n",
              "      <td>MOVIE</td>\n",
              "      <td>1976</td>\n",
              "      <td>113</td>\n",
              "      <td>['crime', 'drama']</td>\n",
              "      <td>8.300000</td>\n",
              "    </tr>\n",
              "    <tr>\n",
              "      <th>2</th>\n",
              "      <td>tm127384</td>\n",
              "      <td>Monty Python and the Holy Grail</td>\n",
              "      <td>MOVIE</td>\n",
              "      <td>1975</td>\n",
              "      <td>91</td>\n",
              "      <td>['comedy', 'fantasy']</td>\n",
              "      <td>8.200000</td>\n",
              "    </tr>\n",
              "    <tr>\n",
              "      <th>3</th>\n",
              "      <td>tm70993</td>\n",
              "      <td>Life of Brian</td>\n",
              "      <td>MOVIE</td>\n",
              "      <td>1979</td>\n",
              "      <td>94</td>\n",
              "      <td>['comedy']</td>\n",
              "      <td>8.000000</td>\n",
              "    </tr>\n",
              "    <tr>\n",
              "      <th>4</th>\n",
              "      <td>tm190788</td>\n",
              "      <td>The Exorcist</td>\n",
              "      <td>MOVIE</td>\n",
              "      <td>1973</td>\n",
              "      <td>133</td>\n",
              "      <td>['horror']</td>\n",
              "      <td>8.100000</td>\n",
              "    </tr>\n",
              "    <tr>\n",
              "      <th>...</th>\n",
              "      <td>...</td>\n",
              "      <td>...</td>\n",
              "      <td>...</td>\n",
              "      <td>...</td>\n",
              "      <td>...</td>\n",
              "      <td>...</td>\n",
              "      <td>...</td>\n",
              "    </tr>\n",
              "    <tr>\n",
              "      <th>5801</th>\n",
              "      <td>tm1014599</td>\n",
              "      <td>Fine Wine</td>\n",
              "      <td>MOVIE</td>\n",
              "      <td>2021</td>\n",
              "      <td>100</td>\n",
              "      <td>['romance', 'drama']</td>\n",
              "      <td>6.900000</td>\n",
              "    </tr>\n",
              "    <tr>\n",
              "      <th>5802</th>\n",
              "      <td>tm1108171</td>\n",
              "      <td>Edis Starlight</td>\n",
              "      <td>MOVIE</td>\n",
              "      <td>2021</td>\n",
              "      <td>74</td>\n",
              "      <td>['music', 'documentation']</td>\n",
              "      <td>6.533447</td>\n",
              "    </tr>\n",
              "    <tr>\n",
              "      <th>5803</th>\n",
              "      <td>tm1045018</td>\n",
              "      <td>Clash</td>\n",
              "      <td>MOVIE</td>\n",
              "      <td>2021</td>\n",
              "      <td>88</td>\n",
              "      <td>['family', 'drama']</td>\n",
              "      <td>6.500000</td>\n",
              "    </tr>\n",
              "    <tr>\n",
              "      <th>5804</th>\n",
              "      <td>tm1098060</td>\n",
              "      <td>Shadow Parties</td>\n",
              "      <td>MOVIE</td>\n",
              "      <td>2021</td>\n",
              "      <td>116</td>\n",
              "      <td>['action', 'thriller']</td>\n",
              "      <td>6.200000</td>\n",
              "    </tr>\n",
              "    <tr>\n",
              "      <th>5805</th>\n",
              "      <td>ts271048</td>\n",
              "      <td>Mighty Little Bheem: Kite Festival</td>\n",
              "      <td>SHOW</td>\n",
              "      <td>2021</td>\n",
              "      <td>0</td>\n",
              "      <td>['family', 'comedy', 'animation']</td>\n",
              "      <td>8.800000</td>\n",
              "    </tr>\n",
              "  </tbody>\n",
              "</table>\n",
              "<p>5806 rows × 7 columns</p>\n",
              "</div>"
            ],
            "text/plain": [
              "             id                                title   type  release_year  \\\n",
              "0      ts300399  Five Came Back: The Reference Films   SHOW          1945   \n",
              "1       tm84618                          Taxi Driver  MOVIE          1976   \n",
              "2      tm127384      Monty Python and the Holy Grail  MOVIE          1975   \n",
              "3       tm70993                        Life of Brian  MOVIE          1979   \n",
              "4      tm190788                         The Exorcist  MOVIE          1973   \n",
              "...         ...                                  ...    ...           ...   \n",
              "5801  tm1014599                            Fine Wine  MOVIE          2021   \n",
              "5802  tm1108171                       Edis Starlight  MOVIE          2021   \n",
              "5803  tm1045018                                Clash  MOVIE          2021   \n",
              "5804  tm1098060                       Shadow Parties  MOVIE          2021   \n",
              "5805   ts271048   Mighty Little Bheem: Kite Festival   SHOW          2021   \n",
              "\n",
              "      runtime                             genres  imdb_score  \n",
              "0          48                  ['documentation']    6.533447  \n",
              "1         113                 ['crime', 'drama']    8.300000  \n",
              "2          91              ['comedy', 'fantasy']    8.200000  \n",
              "3          94                         ['comedy']    8.000000  \n",
              "4         133                         ['horror']    8.100000  \n",
              "...       ...                                ...         ...  \n",
              "5801      100               ['romance', 'drama']    6.900000  \n",
              "5802       74         ['music', 'documentation']    6.533447  \n",
              "5803       88                ['family', 'drama']    6.500000  \n",
              "5804      116             ['action', 'thriller']    6.200000  \n",
              "5805        0  ['family', 'comedy', 'animation']    8.800000  \n",
              "\n",
              "[5806 rows x 7 columns]"
            ]
          },
          "execution_count": 32,
          "metadata": {},
          "output_type": "execute_result"
        }
      ],
      "source": [
        "df1"
      ]
    },
    {
      "cell_type": "markdown",
      "metadata": {
        "id": "KCgjNOsUsdb8"
      },
      "source": [
        "## Exploratory Analysis and Visualization\n",
        "\n",
        "Before we start with Questions, let's look at the columns of our dataframe i.e, title, type, release_year, genre, imdb_score.\n",
        "It is important to understand about these columns to analyze the data of the TV Shows and Movies in the Netflix Streaming till May 2022."
      ]
    },
    {
      "cell_type": "markdown",
      "metadata": {
        "id": "zvu-MOtksdb8"
      },
      "source": [
        "Let's begin by importing`matplotlib.pyplot` and `seaborn`."
      ]
    },
    {
      "cell_type": "code",
      "execution_count": null,
      "metadata": {
        "id": "NlKrG8IVsdb9"
      },
      "outputs": [],
      "source": [
        "import seaborn as sns\n",
        "import matplotlib\n",
        "import matplotlib.pyplot as plt\n",
        "%matplotlib inline\n",
        "\n",
        "sns.set_style('darkgrid')\n",
        "matplotlib.rcParams['font.size'] = 14\n",
        "matplotlib.rcParams['figure.figsize'] = (9, 5)\n",
        "matplotlib.rcParams['figure.facecolor'] = '#00000000'"
      ]
    },
    {
      "cell_type": "markdown",
      "metadata": {
        "id": "_sIgKVlTsdb9"
      },
      "source": [
        "# Type\n",
        "\n",
        "Let's look at the types of titles in the given dataset"
      ]
    },
    {
      "cell_type": "code",
      "execution_count": null,
      "metadata": {
        "id": "BprtIj4Zsdb9",
        "outputId": "1fed9976-0043-41ea-9b85-d3390c61dfa4"
      },
      "outputs": [
        {
          "data": {
            "text/plain": [
              "0        SHOW\n",
              "1       MOVIE\n",
              "2       MOVIE\n",
              "3       MOVIE\n",
              "4       MOVIE\n",
              "        ...  \n",
              "5801    MOVIE\n",
              "5802    MOVIE\n",
              "5803    MOVIE\n",
              "5804    MOVIE\n",
              "5805     SHOW\n",
              "Name: type, Length: 5806, dtype: object"
            ]
          },
          "execution_count": 34,
          "metadata": {},
          "output_type": "execute_result"
        }
      ],
      "source": [
        "df1.type"
      ]
    },
    {
      "cell_type": "code",
      "execution_count": null,
      "metadata": {
        "id": "o1Hq42IUsdb-",
        "outputId": "4f8dd458-4ad8-4fa4-c1ad-101ed31ae7b0"
      },
      "outputs": [
        {
          "data": {
            "text/plain": [
              "2"
            ]
          },
          "execution_count": 35,
          "metadata": {},
          "output_type": "execute_result"
        }
      ],
      "source": [
        "df1.type.nunique()"
      ]
    },
    {
      "cell_type": "markdown",
      "metadata": {
        "id": "SzJH7ZO_sdb_"
      },
      "source": [
        "So, we can observe that there are two types of 'TYPE' column in the dataset i.e, MOVIE and SHOW"
      ]
    },
    {
      "cell_type": "code",
      "execution_count": null,
      "metadata": {
        "id": "WGvqPkIDsdb_",
        "outputId": "44a0e20e-d80f-4ca6-a3fd-ee12d0c6ca8d"
      },
      "outputs": [
        {
          "data": {
            "text/plain": [
              "MOVIE    3759\n",
              "SHOW     2047\n",
              "Name: type, dtype: int64"
            ]
          },
          "execution_count": 36,
          "metadata": {},
          "output_type": "execute_result"
        }
      ],
      "source": [
        "type_counts = df1['type'].value_counts()\n",
        "type_counts"
      ]
    },
    {
      "cell_type": "code",
      "execution_count": null,
      "metadata": {
        "id": "bnPHF_cssdcA",
        "outputId": "ed6622b0-ed4a-4ab5-91de-ca86a3848b63"
      },
      "outputs": [
        {
          "data": {
            "image/png": "[encoded data removed]",
            "text/plain": [
              "<Figure size 648x360 with 1 Axes>"
            ]
          },
          "metadata": {
            "needs_background": "light"
          },
          "output_type": "display_data"
        }
      ],
      "source": [
        "sns.countplot(data=df1, x='type')\n",
        "plt.show()"
      ]
    },
    {
      "cell_type": "markdown",
      "metadata": {
        "id": "iXAKD73GsdcA"
      },
      "source": [
        "We can observe that most of the streaming types in Netflix are movies. The number of movies in Netflix are comparitvely higher than that of TV Shows."
      ]
    },
    {
      "cell_type": "markdown",
      "metadata": {
        "id": "I3IE09eNsdcA"
      },
      "source": [
        "# Release Year"
      ]
    },
    {
      "cell_type": "code",
      "execution_count": null,
      "metadata": {
        "id": "V1Yw8ZjbsdcB",
        "outputId": "18762e41-9866-4640-dd56-31ab19c64e0d"
      },
      "outputs": [
        {
          "data": {
            "text/plain": [
              "0       1945\n",
              "1       1976\n",
              "2       1975\n",
              "3       1979\n",
              "4       1973\n",
              "        ... \n",
              "5801    2021\n",
              "5802    2021\n",
              "5803    2021\n",
              "5804    2021\n",
              "5805    2021\n",
              "Name: release_year, Length: 5806, dtype: int64"
            ]
          },
          "execution_count": 38,
          "metadata": {},
          "output_type": "execute_result"
        }
      ],
      "source": [
        "df1['release_year']"
      ]
    },
    {
      "cell_type": "code",
      "execution_count": null,
      "metadata": {
        "id": "g5S0eVv2sdcB",
        "outputId": "b3367af8-09f5-4c32-8cb6-4a66af762722"
      },
      "outputs": [
        {
          "data": {
            "text/plain": [
              "2019    848\n",
              "2020    805\n",
              "2018    774\n",
              "2021    758\n",
              "2017    580\n",
              "2016    371\n",
              "2015    236\n",
              "2022    217\n",
              "2014    160\n",
              "2013    142\n",
              "Name: release_year, dtype: int64"
            ]
          },
          "execution_count": 39,
          "metadata": {},
          "output_type": "execute_result"
        }
      ],
      "source": [
        "release_year_count = df1['release_year'].value_counts().head(10)\n",
        "release_year_count"
      ]
    },
    {
      "cell_type": "markdown",
      "metadata": {
        "id": "o7QnqwUQsdcB"
      },
      "source": [
        "So, we can see that 2019, 2020, 2018, 2021, 2017, 2016, 2015, 2022, 2014, 2013 are the top 10 years with the highest number of releases of TV Shows and Movies of the Netflix Streaming."
      ]
    },
    {
      "cell_type": "code",
      "execution_count": null,
      "metadata": {
        "scrolled": false,
        "id": "YfeB8DM9sdcC",
        "outputId": "5af7ffce-70a6-4449-c8e5-b24e73c08792"
      },
      "outputs": [
        {
          "data": {
            "image/png": "[encoded data removed]",
            "text/plain": [
              "<Figure size 1440x720 with 1 Axes>"
            ]
          },
          "metadata": {
            "needs_background": "light"
          },
          "output_type": "display_data"
        }
      ],
      "source": [
        "plt.figure(figsize=(20, 10))\n",
        "sns.barplot(x=release_year_count.index, y=release_year_count);"
      ]
    },
    {
      "cell_type": "markdown",
      "metadata": {
        "id": "xE1RJySBsdcC"
      },
      "source": [
        "It appears that 2019 has the highest number of releases of TV Shows and Movies in Netflix Streaming. We can also observe that there is an increasing graph from 2013 to 2019 regarding the highest number of releases but as it goes to 2022, there is decreasing graph predicting that the highest number of releases will be decreasing. "
      ]
    },
    {
      "cell_type": "markdown",
      "metadata": {
        "id": "Fo6y1ejgsdcC"
      },
      "source": [
        "# Runtime\n",
        "\n",
        "Let's look at the column runtime, which shows the running time of TV Shows and movies in the Netflix Streaming."
      ]
    },
    {
      "cell_type": "code",
      "execution_count": null,
      "metadata": {
        "id": "jDNtfoiksdcD",
        "outputId": "1ed742cf-70ad-41f4-ac5e-25a38d97d35c"
      },
      "outputs": [
        {
          "data": {
            "text/plain": [
              "0        48\n",
              "1       113\n",
              "2        91\n",
              "3        94\n",
              "4       133\n",
              "       ... \n",
              "5801    100\n",
              "5802     74\n",
              "5803     88\n",
              "5804    116\n",
              "5805      0\n",
              "Name: runtime, Length: 5806, dtype: int64"
            ]
          },
          "execution_count": 41,
          "metadata": {},
          "output_type": "execute_result"
        }
      ],
      "source": [
        "df1['runtime']"
      ]
    },
    {
      "cell_type": "code",
      "execution_count": null,
      "metadata": {
        "id": "UJGKwMqbsdcD",
        "outputId": "b1273198-6fcf-447b-f399-97550a582006"
      },
      "outputs": [
        {
          "data": {
            "text/plain": [
              "count    5806.000000\n",
              "mean       77.643989\n",
              "std        39.474160\n",
              "min         0.000000\n",
              "25%        44.000000\n",
              "50%        84.000000\n",
              "75%       105.000000\n",
              "max       251.000000\n",
              "Name: runtime, dtype: float64"
            ]
          },
          "execution_count": 42,
          "metadata": {},
          "output_type": "execute_result"
        }
      ],
      "source": [
        "df1['runtime'].describe()"
      ]
    },
    {
      "cell_type": "markdown",
      "metadata": {
        "id": "6y_uL_CYsdcD"
      },
      "source": [
        "We can observe that an average of 77 minutes of streaming of TV Shows and Movies has been seen in the Netflix Streaming."
      ]
    },
    {
      "cell_type": "code",
      "execution_count": null,
      "metadata": {
        "scrolled": true,
        "id": "1ckVax0csdcE",
        "outputId": "e386273e-d7b2-4f5f-cf7e-2b88f99229bc"
      },
      "outputs": [
        {
          "data": {
            "text/plain": [
              "24     129\n",
              "90     122\n",
              "45     108\n",
              "95     105\n",
              "100    104\n",
              "44     102\n",
              "23      92\n",
              "25      85\n",
              "94      84\n",
              "105     83\n",
              "Name: runtime, dtype: int64"
            ]
          },
          "execution_count": 43,
          "metadata": {},
          "output_type": "execute_result"
        }
      ],
      "source": [
        "runtime_count = df1['runtime'].value_counts().head(10)\n",
        "runtime_count"
      ]
    },
    {
      "cell_type": "markdown",
      "metadata": {
        "id": "KQN2Bc-0sdcE"
      },
      "source": [
        "We can observe from the above information that around 129 TV Shows and Movies have runtime of 24 minutes"
      ]
    },
    {
      "cell_type": "code",
      "execution_count": null,
      "metadata": {
        "id": "YWP21z6SsdcE",
        "outputId": "353e25a5-d00f-4827-f2e8-36003154307b"
      },
      "outputs": [
        {
          "data": {
            "image/png": "[encoded data removed]",
            "text/plain": [
              "<Figure size 1440x720 with 1 Axes>"
            ]
          },
          "metadata": {
            "needs_background": "light"
          },
          "output_type": "display_data"
        }
      ],
      "source": [
        "plt.figure(figsize=(20, 10))\n",
        "sns.barplot(x=runtime_count.index, y=runtime_count);"
      ]
    },
    {
      "cell_type": "markdown",
      "metadata": {
        "id": "9-reNZYNsdcE"
      },
      "source": [
        "So from the above BarPlot, it is clear that most of the movies have a runtime of 24 minutes. But, we can also see that maximum runtime of TV Shows and Movies in the Netflix Streaming was around 250 minutes. So, we can predict that the viewers are interested in watching the TV Shows and Movies in Netflix Streaming which have a runtime of around 24 minutes."
      ]
    },
    {
      "cell_type": "markdown",
      "metadata": {
        "id": "qrya9gmKsdcF"
      },
      "source": [
        "# IMDB"
      ]
    },
    {
      "cell_type": "code",
      "execution_count": null,
      "metadata": {
        "id": "r9jjPkLfsdcR",
        "outputId": "51d7a1d1-31cf-4741-8b12-3ba5bcfd22b6"
      },
      "outputs": [
        {
          "data": {
            "text/plain": [
              "0       6.533447\n",
              "1       8.300000\n",
              "2       8.200000\n",
              "3       8.000000\n",
              "4       8.100000\n",
              "          ...   \n",
              "5801    6.900000\n",
              "5802    6.533447\n",
              "5803    6.500000\n",
              "5804    6.200000\n",
              "5805    8.800000\n",
              "Name: imdb_score, Length: 5806, dtype: float64"
            ]
          },
          "execution_count": 45,
          "metadata": {},
          "output_type": "execute_result"
        }
      ],
      "source": [
        "df1['imdb_score']"
      ]
    },
    {
      "cell_type": "code",
      "execution_count": null,
      "metadata": {
        "id": "hgr9IlmpsdcS",
        "outputId": "082226f1-5ab1-472e-c033-1c66f455daac"
      },
      "outputs": [
        {
          "data": {
            "text/plain": [
              "count    5806.000000\n",
              "mean        6.533447\n",
              "std         1.107401\n",
              "min         1.500000\n",
              "25%         5.900000\n",
              "50%         6.533447\n",
              "75%         7.300000\n",
              "max         9.600000\n",
              "Name: imdb_score, dtype: float64"
            ]
          },
          "execution_count": 46,
          "metadata": {},
          "output_type": "execute_result"
        }
      ],
      "source": [
        "df1['imdb_score'].describe()"
      ]
    },
    {
      "cell_type": "markdown",
      "metadata": {
        "id": "RpS4Njr9sdcS"
      },
      "source": [
        "We can see that most of the movies have and average imdb_score of 6.533447. The maximum imdb_score recorded is 9.6 and the least imdb_score recorded is 1.5"
      ]
    },
    {
      "cell_type": "code",
      "execution_count": null,
      "metadata": {
        "id": "aY5sCzn1sdcS",
        "outputId": "15f55381-a707-4207-98d2-ac3c3f0442e3"
      },
      "outputs": [
        {
          "data": {
            "image/png": "[encoded data removed]",
            "text/plain": [
              "<Figure size 1440x720 with 1 Axes>"
            ]
          },
          "metadata": {
            "needs_background": "light"
          },
          "output_type": "display_data"
        }
      ],
      "source": [
        "plt.figure(figsize=(20, 10))\n",
        "plt.hist(df1['imdb_score'], bins=np.arange(1, 10, 0.5), color='purple');"
      ]
    },
    {
      "cell_type": "markdown",
      "metadata": {
        "id": "zKLZG_G6sdcT"
      },
      "source": [
        "It appears that large percentage of movies have an imdb_score of 6.5 to 7. A very small percentage of movies are highly rated. So we can predict that the TV Shows and Movies in Netflix Streaming have an average rating of 6.5 to 7 till May 2022."
      ]
    },
    {
      "cell_type": "markdown",
      "metadata": {
        "id": "tuva1uTisdcT"
      },
      "source": [
        "Something intriguing to figure out would be which genre will tend to be the highest rated."
      ]
    },
    {
      "cell_type": "code",
      "execution_count": null,
      "metadata": {
        "id": "sGNs1KtHsdcU",
        "outputId": "a199c404-e403-4270-f592-3ce4943d4e3e"
      },
      "outputs": [
        {
          "data": {
            "text/plain": [
              "['comedy']                                            510\n",
              "['drama']                                             350\n",
              "['documentation']                                     320\n",
              "['comedy', 'drama']                                   141\n",
              "['drama', 'comedy']                                   128\n",
              "                                                     ... \n",
              "['drama', 'family', 'comedy', 'music']                  1\n",
              "['drama', 'thriller', 'western']                        1\n",
              "['comedy', 'thriller', 'drama', 'action', 'crime']      1\n",
              "['romance', 'drama', 'history', 'european']             1\n",
              "['family', 'comedy', 'animation']                       1\n",
              "Name: genres, Length: 1626, dtype: int64"
            ]
          },
          "execution_count": 48,
          "metadata": {},
          "output_type": "execute_result"
        }
      ],
      "source": [
        "df['genres'].value_counts()"
      ]
    },
    {
      "cell_type": "markdown",
      "metadata": {
        "id": "jTCTtIDVsdcU"
      },
      "source": [
        "It appears to be our dataset generally contains films or TV shows that are comedies, dramatizations, or documentations, so we should perceive how those analyze in IMDB appraisals."
      ]
    },
    {
      "cell_type": "markdown",
      "metadata": {
        "id": "SYnzf8ZcsdcU"
      },
      "source": [
        "## Asking and Answering Questions\n",
        "\n",
        "We've already gained several insights about the respondents and the programming community by exploring individual columns of the dataset. Let's ask some specific questions and try to answer them using data frame operations and visualizations.\n",
        "\n"
      ]
    },
    {
      "cell_type": "markdown",
      "metadata": {
        "id": "NAd891VDsdcV"
      },
      "source": [
        "#### Q1: What is the total number of runtime of all TV Shows and Movies?"
      ]
    },
    {
      "cell_type": "code",
      "execution_count": null,
      "metadata": {
        "id": "CAAKW9XrsdcV",
        "outputId": "4f9879b7-4bf2-4038-f03a-8c5a0ba6b2d7"
      },
      "outputs": [
        {
          "data": {
            "text/html": [
              "<div>\n",
              "<style scoped>\n",
              "    .dataframe tbody tr th:only-of-type {\n",
              "        vertical-align: middle;\n",
              "    }\n",
              "\n",
              "    .dataframe tbody tr th {\n",
              "        vertical-align: top;\n",
              "    }\n",
              "\n",
              "    .dataframe thead th {\n",
              "        text-align: right;\n",
              "    }\n",
              "</style>\n",
              "<table border=\"1\" class=\"dataframe\">\n",
              "  <thead>\n",
              "    <tr style=\"text-align: right;\">\n",
              "      <th></th>\n",
              "      <th>id</th>\n",
              "      <th>title</th>\n",
              "      <th>type</th>\n",
              "      <th>release_year</th>\n",
              "      <th>runtime</th>\n",
              "      <th>genres</th>\n",
              "      <th>imdb_score</th>\n",
              "    </tr>\n",
              "  </thead>\n",
              "  <tbody>\n",
              "    <tr>\n",
              "      <th>0</th>\n",
              "      <td>ts300399</td>\n",
              "      <td>Five Came Back: The Reference Films</td>\n",
              "      <td>SHOW</td>\n",
              "      <td>1945</td>\n",
              "      <td>48</td>\n",
              "      <td>['documentation']</td>\n",
              "      <td>6.533447</td>\n",
              "    </tr>\n",
              "    <tr>\n",
              "      <th>1</th>\n",
              "      <td>tm84618</td>\n",
              "      <td>Taxi Driver</td>\n",
              "      <td>MOVIE</td>\n",
              "      <td>1976</td>\n",
              "      <td>113</td>\n",
              "      <td>['crime', 'drama']</td>\n",
              "      <td>8.300000</td>\n",
              "    </tr>\n",
              "    <tr>\n",
              "      <th>2</th>\n",
              "      <td>tm127384</td>\n",
              "      <td>Monty Python and the Holy Grail</td>\n",
              "      <td>MOVIE</td>\n",
              "      <td>1975</td>\n",
              "      <td>91</td>\n",
              "      <td>['comedy', 'fantasy']</td>\n",
              "      <td>8.200000</td>\n",
              "    </tr>\n",
              "    <tr>\n",
              "      <th>3</th>\n",
              "      <td>tm70993</td>\n",
              "      <td>Life of Brian</td>\n",
              "      <td>MOVIE</td>\n",
              "      <td>1979</td>\n",
              "      <td>94</td>\n",
              "      <td>['comedy']</td>\n",
              "      <td>8.000000</td>\n",
              "    </tr>\n",
              "    <tr>\n",
              "      <th>4</th>\n",
              "      <td>tm190788</td>\n",
              "      <td>The Exorcist</td>\n",
              "      <td>MOVIE</td>\n",
              "      <td>1973</td>\n",
              "      <td>133</td>\n",
              "      <td>['horror']</td>\n",
              "      <td>8.100000</td>\n",
              "    </tr>\n",
              "    <tr>\n",
              "      <th>...</th>\n",
              "      <td>...</td>\n",
              "      <td>...</td>\n",
              "      <td>...</td>\n",
              "      <td>...</td>\n",
              "      <td>...</td>\n",
              "      <td>...</td>\n",
              "      <td>...</td>\n",
              "    </tr>\n",
              "    <tr>\n",
              "      <th>5801</th>\n",
              "      <td>tm1014599</td>\n",
              "      <td>Fine Wine</td>\n",
              "      <td>MOVIE</td>\n",
              "      <td>2021</td>\n",
              "      <td>100</td>\n",
              "      <td>['romance', 'drama']</td>\n",
              "      <td>6.900000</td>\n",
              "    </tr>\n",
              "    <tr>\n",
              "      <th>5802</th>\n",
              "      <td>tm1108171</td>\n",
              "      <td>Edis Starlight</td>\n",
              "      <td>MOVIE</td>\n",
              "      <td>2021</td>\n",
              "      <td>74</td>\n",
              "      <td>['music', 'documentation']</td>\n",
              "      <td>6.533447</td>\n",
              "    </tr>\n",
              "    <tr>\n",
              "      <th>5803</th>\n",
              "      <td>tm1045018</td>\n",
              "      <td>Clash</td>\n",
              "      <td>MOVIE</td>\n",
              "      <td>2021</td>\n",
              "      <td>88</td>\n",
              "      <td>['family', 'drama']</td>\n",
              "      <td>6.500000</td>\n",
              "    </tr>\n",
              "    <tr>\n",
              "      <th>5804</th>\n",
              "      <td>tm1098060</td>\n",
              "      <td>Shadow Parties</td>\n",
              "      <td>MOVIE</td>\n",
              "      <td>2021</td>\n",
              "      <td>116</td>\n",
              "      <td>['action', 'thriller']</td>\n",
              "      <td>6.200000</td>\n",
              "    </tr>\n",
              "    <tr>\n",
              "      <th>5805</th>\n",
              "      <td>ts271048</td>\n",
              "      <td>Mighty Little Bheem: Kite Festival</td>\n",
              "      <td>SHOW</td>\n",
              "      <td>2021</td>\n",
              "      <td>0</td>\n",
              "      <td>['family', 'comedy', 'animation']</td>\n",
              "      <td>8.800000</td>\n",
              "    </tr>\n",
              "  </tbody>\n",
              "</table>\n",
              "<p>5806 rows × 7 columns</p>\n",
              "</div>"
            ],
            "text/plain": [
              "             id                                title   type  release_year  \\\n",
              "0      ts300399  Five Came Back: The Reference Films   SHOW          1945   \n",
              "1       tm84618                          Taxi Driver  MOVIE          1976   \n",
              "2      tm127384      Monty Python and the Holy Grail  MOVIE          1975   \n",
              "3       tm70993                        Life of Brian  MOVIE          1979   \n",
              "4      tm190788                         The Exorcist  MOVIE          1973   \n",
              "...         ...                                  ...    ...           ...   \n",
              "5801  tm1014599                            Fine Wine  MOVIE          2021   \n",
              "5802  tm1108171                       Edis Starlight  MOVIE          2021   \n",
              "5803  tm1045018                                Clash  MOVIE          2021   \n",
              "5804  tm1098060                       Shadow Parties  MOVIE          2021   \n",
              "5805   ts271048   Mighty Little Bheem: Kite Festival   SHOW          2021   \n",
              "\n",
              "      runtime                             genres  imdb_score  \n",
              "0          48                  ['documentation']    6.533447  \n",
              "1         113                 ['crime', 'drama']    8.300000  \n",
              "2          91              ['comedy', 'fantasy']    8.200000  \n",
              "3          94                         ['comedy']    8.000000  \n",
              "4         133                         ['horror']    8.100000  \n",
              "...       ...                                ...         ...  \n",
              "5801      100               ['romance', 'drama']    6.900000  \n",
              "5802       74         ['music', 'documentation']    6.533447  \n",
              "5803       88                ['family', 'drama']    6.500000  \n",
              "5804      116             ['action', 'thriller']    6.200000  \n",
              "5805        0  ['family', 'comedy', 'animation']    8.800000  \n",
              "\n",
              "[5806 rows x 7 columns]"
            ]
          },
          "execution_count": 51,
          "metadata": {},
          "output_type": "execute_result"
        }
      ],
      "source": [
        "df1"
      ]
    },
    {
      "cell_type": "markdown",
      "metadata": {
        "id": "PjSGwc6asdcV"
      },
      "source": [
        "To calculate the total number of runtime, we use the sum function"
      ]
    },
    {
      "cell_type": "code",
      "execution_count": null,
      "metadata": {
        "id": "XMJVlBLRsdcV",
        "outputId": "b4c3d9b4-5ab5-47d6-9a49-4bc99f75dbc7"
      },
      "outputs": [
        {
          "data": {
            "text/plain": [
              "450801"
            ]
          },
          "execution_count": 52,
          "metadata": {},
          "output_type": "execute_result"
        }
      ],
      "source": [
        "df1['runtime'].sum()"
      ]
    },
    {
      "cell_type": "markdown",
      "metadata": {
        "id": "M42VGzWPsdcW"
      },
      "source": [
        "It appears that all the TV Shows and Movies of Netflix Streaming have a total runtime of 450801 minutes. So, we can say that the Netflix Streaming has 313 days of content (TV Shows and Movies)."
      ]
    },
    {
      "cell_type": "markdown",
      "metadata": {
        "id": "62xqmwnYsdcW"
      },
      "source": [
        "#### Q2: Which are the top ten movies with highest imdb score?"
      ]
    },
    {
      "cell_type": "code",
      "execution_count": null,
      "metadata": {
        "id": "seeBIKRksdcX"
      },
      "outputs": [],
      "source": [
        "movies_df = df1[df1['type']=='MOVIE']"
      ]
    },
    {
      "cell_type": "markdown",
      "metadata": {
        "id": "V5C2SO5msdcX"
      },
      "source": [
        "We create a subset of dataframe which contain only Movies of the Netflix Streaming."
      ]
    },
    {
      "cell_type": "markdown",
      "metadata": {
        "id": "vhJgl5p9sdcY"
      },
      "source": [
        "We sort the dataframe using sort_values in decreasing order so that the highest rated movie is at the top"
      ]
    },
    {
      "cell_type": "code",
      "execution_count": null,
      "metadata": {
        "scrolled": true,
        "id": "Y-oYjOyKsdcY",
        "outputId": "0020a063-3b68-4967-e5aa-00546a859759"
      },
      "outputs": [
        {
          "data": {
            "text/html": [
              "<div>\n",
              "<style scoped>\n",
              "    .dataframe tbody tr th:only-of-type {\n",
              "        vertical-align: middle;\n",
              "    }\n",
              "\n",
              "    .dataframe tbody tr th {\n",
              "        vertical-align: top;\n",
              "    }\n",
              "\n",
              "    .dataframe thead th {\n",
              "        text-align: right;\n",
              "    }\n",
              "</style>\n",
              "<table border=\"1\" class=\"dataframe\">\n",
              "  <thead>\n",
              "    <tr style=\"text-align: right;\">\n",
              "      <th></th>\n",
              "      <th>id</th>\n",
              "      <th>title</th>\n",
              "      <th>type</th>\n",
              "      <th>release_year</th>\n",
              "      <th>runtime</th>\n",
              "      <th>genres</th>\n",
              "      <th>imdb_score</th>\n",
              "    </tr>\n",
              "  </thead>\n",
              "  <tbody>\n",
              "    <tr>\n",
              "      <th>3352</th>\n",
              "      <td>tm853783</td>\n",
              "      <td>David Attenborough: A Life on Our Planet</td>\n",
              "      <td>MOVIE</td>\n",
              "      <td>2020</td>\n",
              "      <td>83</td>\n",
              "      <td>['documentation']</td>\n",
              "      <td>9.0</td>\n",
              "    </tr>\n",
              "    <tr>\n",
              "      <th>2814</th>\n",
              "      <td>tm432327</td>\n",
              "      <td>C/o Kancharapalem</td>\n",
              "      <td>MOVIE</td>\n",
              "      <td>2018</td>\n",
              "      <td>152</td>\n",
              "      <td>['drama']</td>\n",
              "      <td>9.0</td>\n",
              "    </tr>\n",
              "    <tr>\n",
              "      <th>25</th>\n",
              "      <td>tm76557</td>\n",
              "      <td>No Longer Kids</td>\n",
              "      <td>MOVIE</td>\n",
              "      <td>1979</td>\n",
              "      <td>235</td>\n",
              "      <td>['comedy', 'drama']</td>\n",
              "      <td>9.0</td>\n",
              "    </tr>\n",
              "    <tr>\n",
              "      <th>876</th>\n",
              "      <td>tm166740</td>\n",
              "      <td>Chhota Bheem &amp; Krishna in Mayanagari</td>\n",
              "      <td>MOVIE</td>\n",
              "      <td>2011</td>\n",
              "      <td>66</td>\n",
              "      <td>['animation', 'action', 'fantasy']</td>\n",
              "      <td>9.0</td>\n",
              "    </tr>\n",
              "    <tr>\n",
              "      <th>260</th>\n",
              "      <td>tm92641</td>\n",
              "      <td>Inception</td>\n",
              "      <td>MOVIE</td>\n",
              "      <td>2010</td>\n",
              "      <td>148</td>\n",
              "      <td>['scifi', 'music', 'thriller', 'action']</td>\n",
              "      <td>8.8</td>\n",
              "    </tr>\n",
              "    <tr>\n",
              "      <th>108</th>\n",
              "      <td>tm122434</td>\n",
              "      <td>Forrest Gump</td>\n",
              "      <td>MOVIE</td>\n",
              "      <td>1994</td>\n",
              "      <td>142</td>\n",
              "      <td>['drama', 'romance', 'comedy']</td>\n",
              "      <td>8.8</td>\n",
              "    </tr>\n",
              "    <tr>\n",
              "      <th>4473</th>\n",
              "      <td>tm907872</td>\n",
              "      <td>Sky Tour: The Movie</td>\n",
              "      <td>MOVIE</td>\n",
              "      <td>2020</td>\n",
              "      <td>94</td>\n",
              "      <td>['documentation', 'music']</td>\n",
              "      <td>8.8</td>\n",
              "    </tr>\n",
              "    <tr>\n",
              "      <th>4944</th>\n",
              "      <td>tm1038686</td>\n",
              "      <td>Bo Burnham: Inside</td>\n",
              "      <td>MOVIE</td>\n",
              "      <td>2021</td>\n",
              "      <td>87</td>\n",
              "      <td>['comedy', 'drama', 'music', 'reality']</td>\n",
              "      <td>8.7</td>\n",
              "    </tr>\n",
              "    <tr>\n",
              "      <th>519</th>\n",
              "      <td>tm25842</td>\n",
              "      <td>A Lion in the House</td>\n",
              "      <td>MOVIE</td>\n",
              "      <td>2006</td>\n",
              "      <td>225</td>\n",
              "      <td>['documentation']</td>\n",
              "      <td>8.7</td>\n",
              "    </tr>\n",
              "    <tr>\n",
              "      <th>85</th>\n",
              "      <td>tm45720</td>\n",
              "      <td>Bye Bye London</td>\n",
              "      <td>MOVIE</td>\n",
              "      <td>1982</td>\n",
              "      <td>170</td>\n",
              "      <td>['comedy', 'drama']</td>\n",
              "      <td>8.7</td>\n",
              "    </tr>\n",
              "  </tbody>\n",
              "</table>\n",
              "</div>"
            ],
            "text/plain": [
              "             id                                     title   type  \\\n",
              "3352   tm853783  David Attenborough: A Life on Our Planet  MOVIE   \n",
              "2814   tm432327                         C/o Kancharapalem  MOVIE   \n",
              "25      tm76557                            No Longer Kids  MOVIE   \n",
              "876    tm166740      Chhota Bheem & Krishna in Mayanagari  MOVIE   \n",
              "260     tm92641                                 Inception  MOVIE   \n",
              "108    tm122434                              Forrest Gump  MOVIE   \n",
              "4473   tm907872                       Sky Tour: The Movie  MOVIE   \n",
              "4944  tm1038686                        Bo Burnham: Inside  MOVIE   \n",
              "519     tm25842                       A Lion in the House  MOVIE   \n",
              "85      tm45720                            Bye Bye London  MOVIE   \n",
              "\n",
              "      release_year  runtime                                    genres  \\\n",
              "3352          2020       83                         ['documentation']   \n",
              "2814          2018      152                                 ['drama']   \n",
              "25            1979      235                       ['comedy', 'drama']   \n",
              "876           2011       66        ['animation', 'action', 'fantasy']   \n",
              "260           2010      148  ['scifi', 'music', 'thriller', 'action']   \n",
              "108           1994      142            ['drama', 'romance', 'comedy']   \n",
              "4473          2020       94                ['documentation', 'music']   \n",
              "4944          2021       87   ['comedy', 'drama', 'music', 'reality']   \n",
              "519           2006      225                         ['documentation']   \n",
              "85            1982      170                       ['comedy', 'drama']   \n",
              "\n",
              "      imdb_score  \n",
              "3352         9.0  \n",
              "2814         9.0  \n",
              "25           9.0  \n",
              "876          9.0  \n",
              "260          8.8  \n",
              "108          8.8  \n",
              "4473         8.8  \n",
              "4944         8.7  \n",
              "519          8.7  \n",
              "85           8.7  "
            ]
          },
          "execution_count": 54,
          "metadata": {},
          "output_type": "execute_result"
        }
      ],
      "source": [
        "movies_df.sort_values('imdb_score', ascending=False).head(10)"
      ]
    },
    {
      "cell_type": "markdown",
      "metadata": {
        "id": "M-tveJVXsdcZ"
      },
      "source": [
        "We can observe that the movie with the title David Attenborough: A Life on Our Planet which was released in the year 2020 having a runtime of 83 minutes is the highest rated movie. And, the movie with the title Bye Bye London which was released in the year 1982 having a runtime of 170 minutes stands at the 10th position."
      ]
    },
    {
      "cell_type": "markdown",
      "metadata": {
        "id": "-xhKdN6IsdcZ"
      },
      "source": [
        "#### Q3: Which are the TV Shows having the highest runtime having imdb_score greater than 7.5?"
      ]
    },
    {
      "cell_type": "markdown",
      "metadata": {
        "id": "sL25vx2EsdcZ"
      },
      "source": [
        "We first create a subset of the dataframe with type=SHOW"
      ]
    },
    {
      "cell_type": "code",
      "execution_count": null,
      "metadata": {
        "scrolled": true,
        "id": "QuXL1CFFsdcZ",
        "outputId": "2474de79-be37-4dea-fd54-0fa6e78e15a5"
      },
      "outputs": [
        {
          "data": {
            "text/html": [
              "<div>\n",
              "<style scoped>\n",
              "    .dataframe tbody tr th:only-of-type {\n",
              "        vertical-align: middle;\n",
              "    }\n",
              "\n",
              "    .dataframe tbody tr th {\n",
              "        vertical-align: top;\n",
              "    }\n",
              "\n",
              "    .dataframe thead th {\n",
              "        text-align: right;\n",
              "    }\n",
              "</style>\n",
              "<table border=\"1\" class=\"dataframe\">\n",
              "  <thead>\n",
              "    <tr style=\"text-align: right;\">\n",
              "      <th></th>\n",
              "      <th>id</th>\n",
              "      <th>title</th>\n",
              "      <th>type</th>\n",
              "      <th>release_year</th>\n",
              "      <th>runtime</th>\n",
              "      <th>genres</th>\n",
              "      <th>imdb_score</th>\n",
              "    </tr>\n",
              "  </thead>\n",
              "  <tbody>\n",
              "    <tr>\n",
              "      <th>0</th>\n",
              "      <td>ts300399</td>\n",
              "      <td>Five Came Back: The Reference Films</td>\n",
              "      <td>SHOW</td>\n",
              "      <td>1945</td>\n",
              "      <td>48</td>\n",
              "      <td>['documentation']</td>\n",
              "      <td>6.533447</td>\n",
              "    </tr>\n",
              "    <tr>\n",
              "      <th>5</th>\n",
              "      <td>ts22164</td>\n",
              "      <td>Monty Python's Flying Circus</td>\n",
              "      <td>SHOW</td>\n",
              "      <td>1969</td>\n",
              "      <td>30</td>\n",
              "      <td>['comedy', 'european']</td>\n",
              "      <td>8.800000</td>\n",
              "    </tr>\n",
              "    <tr>\n",
              "      <th>29</th>\n",
              "      <td>ts45948</td>\n",
              "      <td>Monty Python's Fliegender Zirkus</td>\n",
              "      <td>SHOW</td>\n",
              "      <td>1972</td>\n",
              "      <td>43</td>\n",
              "      <td>['comedy']</td>\n",
              "      <td>8.100000</td>\n",
              "    </tr>\n",
              "    <tr>\n",
              "      <th>47</th>\n",
              "      <td>ts20681</td>\n",
              "      <td>Seinfeld</td>\n",
              "      <td>SHOW</td>\n",
              "      <td>1989</td>\n",
              "      <td>24</td>\n",
              "      <td>['comedy']</td>\n",
              "      <td>8.900000</td>\n",
              "    </tr>\n",
              "    <tr>\n",
              "      <th>55</th>\n",
              "      <td>ts22082</td>\n",
              "      <td>Knight Rider</td>\n",
              "      <td>SHOW</td>\n",
              "      <td>1982</td>\n",
              "      <td>51</td>\n",
              "      <td>['action', 'scifi', 'crime', 'drama']</td>\n",
              "      <td>6.900000</td>\n",
              "    </tr>\n",
              "    <tr>\n",
              "      <th>...</th>\n",
              "      <td>...</td>\n",
              "      <td>...</td>\n",
              "      <td>...</td>\n",
              "      <td>...</td>\n",
              "      <td>...</td>\n",
              "      <td>...</td>\n",
              "      <td>...</td>\n",
              "    </tr>\n",
              "    <tr>\n",
              "      <th>5793</th>\n",
              "      <td>ts296698</td>\n",
              "      <td>Glimpses of a Future</td>\n",
              "      <td>SHOW</td>\n",
              "      <td>2021</td>\n",
              "      <td>4</td>\n",
              "      <td>[]</td>\n",
              "      <td>6.533447</td>\n",
              "    </tr>\n",
              "    <tr>\n",
              "      <th>5794</th>\n",
              "      <td>ts297061</td>\n",
              "      <td>Masameer County</td>\n",
              "      <td>SHOW</td>\n",
              "      <td>2021</td>\n",
              "      <td>23</td>\n",
              "      <td>[]</td>\n",
              "      <td>6.533447</td>\n",
              "    </tr>\n",
              "    <tr>\n",
              "      <th>5796</th>\n",
              "      <td>ts286386</td>\n",
              "      <td>The Big Day</td>\n",
              "      <td>SHOW</td>\n",
              "      <td>2021</td>\n",
              "      <td>45</td>\n",
              "      <td>['reality', 'romance']</td>\n",
              "      <td>4.600000</td>\n",
              "    </tr>\n",
              "    <tr>\n",
              "      <th>5799</th>\n",
              "      <td>ts307884</td>\n",
              "      <td>HQ Barbers</td>\n",
              "      <td>SHOW</td>\n",
              "      <td>2021</td>\n",
              "      <td>24</td>\n",
              "      <td>['comedy']</td>\n",
              "      <td>6.533447</td>\n",
              "    </tr>\n",
              "    <tr>\n",
              "      <th>5805</th>\n",
              "      <td>ts271048</td>\n",
              "      <td>Mighty Little Bheem: Kite Festival</td>\n",
              "      <td>SHOW</td>\n",
              "      <td>2021</td>\n",
              "      <td>0</td>\n",
              "      <td>['family', 'comedy', 'animation']</td>\n",
              "      <td>8.800000</td>\n",
              "    </tr>\n",
              "  </tbody>\n",
              "</table>\n",
              "<p>2047 rows × 7 columns</p>\n",
              "</div>"
            ],
            "text/plain": [
              "            id                                title  type  release_year  \\\n",
              "0     ts300399  Five Came Back: The Reference Films  SHOW          1945   \n",
              "5      ts22164         Monty Python's Flying Circus  SHOW          1969   \n",
              "29     ts45948     Monty Python's Fliegender Zirkus  SHOW          1972   \n",
              "47     ts20681                             Seinfeld  SHOW          1989   \n",
              "55     ts22082                         Knight Rider  SHOW          1982   \n",
              "...        ...                                  ...   ...           ...   \n",
              "5793  ts296698                 Glimpses of a Future  SHOW          2021   \n",
              "5794  ts297061                      Masameer County  SHOW          2021   \n",
              "5796  ts286386                          The Big Day  SHOW          2021   \n",
              "5799  ts307884                           HQ Barbers  SHOW          2021   \n",
              "5805  ts271048   Mighty Little Bheem: Kite Festival  SHOW          2021   \n",
              "\n",
              "      runtime                                 genres  imdb_score  \n",
              "0          48                      ['documentation']    6.533447  \n",
              "5          30                 ['comedy', 'european']    8.800000  \n",
              "29         43                             ['comedy']    8.100000  \n",
              "47         24                             ['comedy']    8.900000  \n",
              "55         51  ['action', 'scifi', 'crime', 'drama']    6.900000  \n",
              "...       ...                                    ...         ...  \n",
              "5793        4                                     []    6.533447  \n",
              "5794       23                                     []    6.533447  \n",
              "5796       45                 ['reality', 'romance']    4.600000  \n",
              "5799       24                             ['comedy']    6.533447  \n",
              "5805        0      ['family', 'comedy', 'animation']    8.800000  \n",
              "\n",
              "[2047 rows x 7 columns]"
            ]
          },
          "execution_count": 55,
          "metadata": {},
          "output_type": "execute_result"
        }
      ],
      "source": [
        "show_df = df1[df1['type']=='SHOW']\n",
        "show_df"
      ]
    },
    {
      "cell_type": "markdown",
      "metadata": {
        "id": "MwObfP8rsdcZ"
      },
      "source": [
        "We are checking for the condition of imdb_score having greater than 7.5"
      ]
    },
    {
      "cell_type": "code",
      "execution_count": null,
      "metadata": {
        "id": "CLjf9Y6ysdcZ"
      },
      "outputs": [],
      "source": [
        "imdb_score_cond = df1.imdb_score>7.5"
      ]
    },
    {
      "cell_type": "markdown",
      "metadata": {
        "id": "OX_Cd5u1sdcZ"
      },
      "source": [
        "Now, using the condition variable, We are going to create a new subset of this dataframe such that it has only TV Shows with imdb_score greater than 7.5"
      ]
    },
    {
      "cell_type": "code",
      "execution_count": null,
      "metadata": {
        "id": "j2xYsFd6sdcZ",
        "outputId": "ef16ce0c-c7da-454d-f1a7-acb4f9ac5976"
      },
      "outputs": [
        {
          "name": "stderr",
          "output_type": "stream",
          "text": [
            "/tmp/ipykernel_683/1918284302.py:1: UserWarning: Boolean Series key will be reindexed to match DataFrame index.\n",
            "  new_show_df = show_df[imdb_score_cond]\n"
          ]
        },
        {
          "data": {
            "text/html": [
              "<div>\n",
              "<style scoped>\n",
              "    .dataframe tbody tr th:only-of-type {\n",
              "        vertical-align: middle;\n",
              "    }\n",
              "\n",
              "    .dataframe tbody tr th {\n",
              "        vertical-align: top;\n",
              "    }\n",
              "\n",
              "    .dataframe thead th {\n",
              "        text-align: right;\n",
              "    }\n",
              "</style>\n",
              "<table border=\"1\" class=\"dataframe\">\n",
              "  <thead>\n",
              "    <tr style=\"text-align: right;\">\n",
              "      <th></th>\n",
              "      <th>id</th>\n",
              "      <th>title</th>\n",
              "      <th>type</th>\n",
              "      <th>release_year</th>\n",
              "      <th>runtime</th>\n",
              "      <th>genres</th>\n",
              "      <th>imdb_score</th>\n",
              "    </tr>\n",
              "  </thead>\n",
              "  <tbody>\n",
              "    <tr>\n",
              "      <th>5</th>\n",
              "      <td>ts22164</td>\n",
              "      <td>Monty Python's Flying Circus</td>\n",
              "      <td>SHOW</td>\n",
              "      <td>1969</td>\n",
              "      <td>30</td>\n",
              "      <td>['comedy', 'european']</td>\n",
              "      <td>8.8</td>\n",
              "    </tr>\n",
              "    <tr>\n",
              "      <th>29</th>\n",
              "      <td>ts45948</td>\n",
              "      <td>Monty Python's Fliegender Zirkus</td>\n",
              "      <td>SHOW</td>\n",
              "      <td>1972</td>\n",
              "      <td>43</td>\n",
              "      <td>['comedy']</td>\n",
              "      <td>8.1</td>\n",
              "    </tr>\n",
              "    <tr>\n",
              "      <th>47</th>\n",
              "      <td>ts20681</td>\n",
              "      <td>Seinfeld</td>\n",
              "      <td>SHOW</td>\n",
              "      <td>1989</td>\n",
              "      <td>24</td>\n",
              "      <td>['comedy']</td>\n",
              "      <td>8.9</td>\n",
              "    </tr>\n",
              "    <tr>\n",
              "      <th>106</th>\n",
              "      <td>ts22176</td>\n",
              "      <td>Stargate SG-1</td>\n",
              "      <td>SHOW</td>\n",
              "      <td>1997</td>\n",
              "      <td>44</td>\n",
              "      <td>['scifi', 'drama', 'action']</td>\n",
              "      <td>8.4</td>\n",
              "    </tr>\n",
              "    <tr>\n",
              "      <th>107</th>\n",
              "      <td>ts21223</td>\n",
              "      <td>Pokémon</td>\n",
              "      <td>SHOW</td>\n",
              "      <td>1997</td>\n",
              "      <td>22</td>\n",
              "      <td>['scifi', 'action', 'comedy', 'fantasy', 'anim...</td>\n",
              "      <td>7.6</td>\n",
              "    </tr>\n",
              "    <tr>\n",
              "      <th>...</th>\n",
              "      <td>...</td>\n",
              "      <td>...</td>\n",
              "      <td>...</td>\n",
              "      <td>...</td>\n",
              "      <td>...</td>\n",
              "      <td>...</td>\n",
              "      <td>...</td>\n",
              "    </tr>\n",
              "    <tr>\n",
              "      <th>5609</th>\n",
              "      <td>ts316882</td>\n",
              "      <td>Reasonable Doubt: A Tale of Two Kidnappings</td>\n",
              "      <td>SHOW</td>\n",
              "      <td>2021</td>\n",
              "      <td>47</td>\n",
              "      <td>['crime', 'documentation']</td>\n",
              "      <td>7.6</td>\n",
              "    </tr>\n",
              "    <tr>\n",
              "      <th>5680</th>\n",
              "      <td>ts288861</td>\n",
              "      <td>Let's Eat</td>\n",
              "      <td>SHOW</td>\n",
              "      <td>2021</td>\n",
              "      <td>60</td>\n",
              "      <td>['drama', 'comedy']</td>\n",
              "      <td>8.2</td>\n",
              "    </tr>\n",
              "    <tr>\n",
              "      <th>5747</th>\n",
              "      <td>ts285422</td>\n",
              "      <td>Newton's Cradle</td>\n",
              "      <td>SHOW</td>\n",
              "      <td>2021</td>\n",
              "      <td>41</td>\n",
              "      <td>['drama', 'thriller']</td>\n",
              "      <td>8.0</td>\n",
              "    </tr>\n",
              "    <tr>\n",
              "      <th>5751</th>\n",
              "      <td>ts297685</td>\n",
              "      <td>I Need Romance</td>\n",
              "      <td>SHOW</td>\n",
              "      <td>2021</td>\n",
              "      <td>45</td>\n",
              "      <td>['drama', 'romance']</td>\n",
              "      <td>7.8</td>\n",
              "    </tr>\n",
              "    <tr>\n",
              "      <th>5805</th>\n",
              "      <td>ts271048</td>\n",
              "      <td>Mighty Little Bheem: Kite Festival</td>\n",
              "      <td>SHOW</td>\n",
              "      <td>2021</td>\n",
              "      <td>0</td>\n",
              "      <td>['family', 'comedy', 'animation']</td>\n",
              "      <td>8.8</td>\n",
              "    </tr>\n",
              "  </tbody>\n",
              "</table>\n",
              "<p>623 rows × 7 columns</p>\n",
              "</div>"
            ],
            "text/plain": [
              "            id                                        title  type  \\\n",
              "5      ts22164                 Monty Python's Flying Circus  SHOW   \n",
              "29     ts45948             Monty Python's Fliegender Zirkus  SHOW   \n",
              "47     ts20681                                     Seinfeld  SHOW   \n",
              "106    ts22176                                Stargate SG-1  SHOW   \n",
              "107    ts21223                                      Pokémon  SHOW   \n",
              "...        ...                                          ...   ...   \n",
              "5609  ts316882  Reasonable Doubt: A Tale of Two Kidnappings  SHOW   \n",
              "5680  ts288861                                    Let's Eat  SHOW   \n",
              "5747  ts285422                              Newton's Cradle  SHOW   \n",
              "5751  ts297685                               I Need Romance  SHOW   \n",
              "5805  ts271048           Mighty Little Bheem: Kite Festival  SHOW   \n",
              "\n",
              "      release_year  runtime  \\\n",
              "5             1969       30   \n",
              "29            1972       43   \n",
              "47            1989       24   \n",
              "106           1997       44   \n",
              "107           1997       22   \n",
              "...            ...      ...   \n",
              "5609          2021       47   \n",
              "5680          2021       60   \n",
              "5747          2021       41   \n",
              "5751          2021       45   \n",
              "5805          2021        0   \n",
              "\n",
              "                                                 genres  imdb_score  \n",
              "5                                ['comedy', 'european']         8.8  \n",
              "29                                           ['comedy']         8.1  \n",
              "47                                           ['comedy']         8.9  \n",
              "106                        ['scifi', 'drama', 'action']         8.4  \n",
              "107   ['scifi', 'action', 'comedy', 'fantasy', 'anim...         7.6  \n",
              "...                                                 ...         ...  \n",
              "5609                         ['crime', 'documentation']         7.6  \n",
              "5680                                ['drama', 'comedy']         8.2  \n",
              "5747                              ['drama', 'thriller']         8.0  \n",
              "5751                               ['drama', 'romance']         7.8  \n",
              "5805                  ['family', 'comedy', 'animation']         8.8  \n",
              "\n",
              "[623 rows x 7 columns]"
            ]
          },
          "execution_count": 57,
          "metadata": {},
          "output_type": "execute_result"
        }
      ],
      "source": [
        "new_show_df = show_df[imdb_score_cond]\n",
        "new_show_df"
      ]
    },
    {
      "cell_type": "markdown",
      "metadata": {
        "id": "vtyXK-uRsdca"
      },
      "source": [
        "Now, we sort the values of the column runtime of the new dataframe such that the top ten shows with the highest runtime is displayed."
      ]
    },
    {
      "cell_type": "code",
      "execution_count": null,
      "metadata": {
        "id": "Uf34tlfmsdca",
        "outputId": "a619894f-617e-4c1f-f6a4-ad42ff88d9c3"
      },
      "outputs": [
        {
          "data": {
            "text/html": [
              "<div>\n",
              "<style scoped>\n",
              "    .dataframe tbody tr th:only-of-type {\n",
              "        vertical-align: middle;\n",
              "    }\n",
              "\n",
              "    .dataframe tbody tr th {\n",
              "        vertical-align: top;\n",
              "    }\n",
              "\n",
              "    .dataframe thead th {\n",
              "        text-align: right;\n",
              "    }\n",
              "</style>\n",
              "<table border=\"1\" class=\"dataframe\">\n",
              "  <thead>\n",
              "    <tr style=\"text-align: right;\">\n",
              "      <th></th>\n",
              "      <th>id</th>\n",
              "      <th>title</th>\n",
              "      <th>type</th>\n",
              "      <th>release_year</th>\n",
              "      <th>runtime</th>\n",
              "      <th>genres</th>\n",
              "      <th>imdb_score</th>\n",
              "    </tr>\n",
              "  </thead>\n",
              "  <tbody>\n",
              "    <tr>\n",
              "      <th>388</th>\n",
              "      <td>ts15986</td>\n",
              "      <td>Dead Set</td>\n",
              "      <td>SHOW</td>\n",
              "      <td>2008</td>\n",
              "      <td>141</td>\n",
              "      <td>['scifi', 'thriller', 'comedy', 'drama', 'horr...</td>\n",
              "      <td>7.6</td>\n",
              "    </tr>\n",
              "    <tr>\n",
              "      <th>4997</th>\n",
              "      <td>ts108042</td>\n",
              "      <td>Maya and the Three</td>\n",
              "      <td>SHOW</td>\n",
              "      <td>2021</td>\n",
              "      <td>131</td>\n",
              "      <td>['comedy', 'drama', 'family', 'fantasy', 'anim...</td>\n",
              "      <td>8.1</td>\n",
              "    </tr>\n",
              "    <tr>\n",
              "      <th>1408</th>\n",
              "      <td>ts78325</td>\n",
              "      <td>Sinatra: All or Nothing at All</td>\n",
              "      <td>SHOW</td>\n",
              "      <td>2015</td>\n",
              "      <td>122</td>\n",
              "      <td>['documentation', 'music']</td>\n",
              "      <td>8.0</td>\n",
              "    </tr>\n",
              "    <tr>\n",
              "      <th>4403</th>\n",
              "      <td>ts269844</td>\n",
              "      <td>Paava Kadhaigal</td>\n",
              "      <td>SHOW</td>\n",
              "      <td>2020</td>\n",
              "      <td>118</td>\n",
              "      <td>['drama', 'family']</td>\n",
              "      <td>8.1</td>\n",
              "    </tr>\n",
              "    <tr>\n",
              "      <th>1422</th>\n",
              "      <td>ts37660</td>\n",
              "      <td>Reply 1988</td>\n",
              "      <td>SHOW</td>\n",
              "      <td>2015</td>\n",
              "      <td>95</td>\n",
              "      <td>['comedy', 'drama', 'family', 'romance']</td>\n",
              "      <td>9.2</td>\n",
              "    </tr>\n",
              "    <tr>\n",
              "      <th>4939</th>\n",
              "      <td>ts311989</td>\n",
              "      <td>jeen-yuhs</td>\n",
              "      <td>SHOW</td>\n",
              "      <td>2022</td>\n",
              "      <td>93</td>\n",
              "      <td>['documentation', 'music']</td>\n",
              "      <td>8.1</td>\n",
              "    </tr>\n",
              "    <tr>\n",
              "      <th>1362</th>\n",
              "      <td>ts52830</td>\n",
              "      <td>Gilmore Girls: A Year in the Life</td>\n",
              "      <td>SHOW</td>\n",
              "      <td>2016</td>\n",
              "      <td>92</td>\n",
              "      <td>['comedy', 'drama']</td>\n",
              "      <td>7.6</td>\n",
              "    </tr>\n",
              "    <tr>\n",
              "      <th>2432</th>\n",
              "      <td>ts76478</td>\n",
              "      <td>Prison Playbook</td>\n",
              "      <td>SHOW</td>\n",
              "      <td>2017</td>\n",
              "      <td>91</td>\n",
              "      <td>['comedy', 'drama']</td>\n",
              "      <td>8.5</td>\n",
              "    </tr>\n",
              "    <tr>\n",
              "      <th>3677</th>\n",
              "      <td>ts223192</td>\n",
              "      <td>Hospital Playlist</td>\n",
              "      <td>SHOW</td>\n",
              "      <td>2020</td>\n",
              "      <td>90</td>\n",
              "      <td>['comedy', 'drama']</td>\n",
              "      <td>8.8</td>\n",
              "    </tr>\n",
              "    <tr>\n",
              "      <th>2878</th>\n",
              "      <td>ts75320</td>\n",
              "      <td>A Boy Named Flora A</td>\n",
              "      <td>SHOW</td>\n",
              "      <td>2017</td>\n",
              "      <td>89</td>\n",
              "      <td>['drama', 'comedy']</td>\n",
              "      <td>7.9</td>\n",
              "    </tr>\n",
              "  </tbody>\n",
              "</table>\n",
              "</div>"
            ],
            "text/plain": [
              "            id                              title  type  release_year  \\\n",
              "388    ts15986                           Dead Set  SHOW          2008   \n",
              "4997  ts108042                 Maya and the Three  SHOW          2021   \n",
              "1408   ts78325     Sinatra: All or Nothing at All  SHOW          2015   \n",
              "4403  ts269844                    Paava Kadhaigal  SHOW          2020   \n",
              "1422   ts37660                         Reply 1988  SHOW          2015   \n",
              "4939  ts311989                          jeen-yuhs  SHOW          2022   \n",
              "1362   ts52830  Gilmore Girls: A Year in the Life  SHOW          2016   \n",
              "2432   ts76478                    Prison Playbook  SHOW          2017   \n",
              "3677  ts223192                  Hospital Playlist  SHOW          2020   \n",
              "2878   ts75320                A Boy Named Flora A  SHOW          2017   \n",
              "\n",
              "      runtime                                             genres  imdb_score  \n",
              "388       141  ['scifi', 'thriller', 'comedy', 'drama', 'horr...         7.6  \n",
              "4997      131  ['comedy', 'drama', 'family', 'fantasy', 'anim...         8.1  \n",
              "1408      122                         ['documentation', 'music']         8.0  \n",
              "4403      118                                ['drama', 'family']         8.1  \n",
              "1422       95           ['comedy', 'drama', 'family', 'romance']         9.2  \n",
              "4939       93                         ['documentation', 'music']         8.1  \n",
              "1362       92                                ['comedy', 'drama']         7.6  \n",
              "2432       91                                ['comedy', 'drama']         8.5  \n",
              "3677       90                                ['comedy', 'drama']         8.8  \n",
              "2878       89                                ['drama', 'comedy']         7.9  "
            ]
          },
          "execution_count": 58,
          "metadata": {},
          "output_type": "execute_result"
        }
      ],
      "source": [
        "new_show_df.sort_values('runtime', ascending=False).head(10)"
      ]
    },
    {
      "cell_type": "markdown",
      "metadata": {
        "id": "Ftz1f73Esdca"
      },
      "source": [
        "We can now observe that the show with the title Dead Set which was released in the year 2008 having an imdb score of 7.6 has the highest runtime of 141 minutes. And, the show with the title A Boy Named Flora A which was released in the year 2017 having an imdb_score of 7.9 has the runtime of 89 minutes standing in the 10th position."
      ]
    },
    {
      "cell_type": "code",
      "execution_count": null,
      "metadata": {
        "id": "uYIR5Ub7sdca",
        "outputId": "323442be-fc53-40f6-9cc5-69a369eea5d4"
      },
      "outputs": [
        {
          "data": {
            "image/png": "[encoded data removed]",
            "text/plain": [
              "<Figure size 648x360 with 1 Axes>"
            ]
          },
          "metadata": {
            "needs_background": "light"
          },
          "output_type": "display_data"
        }
      ],
      "source": [
        "plt.plot(new_show_df['runtime'], new_show_df['imdb_score']);"
      ]
    },
    {
      "cell_type": "markdown",
      "metadata": {
        "id": "uE0xK0S2sdca"
      },
      "source": [
        "The output is not very informative as there are too many combinations of the two properties within the dataset. There doesn't seem to be simple relationship between them.\n",
        "\n",
        "We can use a scatter plot to visualize how runtime & imdb_score vary using the scatterplot function from the seaborn module (imported as sns)."
      ]
    },
    {
      "cell_type": "code",
      "execution_count": null,
      "metadata": {
        "scrolled": true,
        "id": "35og7PICsdca",
        "outputId": "822fb8a6-2b73-44a0-fefc-134ab1ef8310"
      },
      "outputs": [
        {
          "data": {
            "image/png": "[encoded data removed]",
            "text/plain": [
              "<Figure size 648x360 with 1 Axes>"
            ]
          },
          "metadata": {
            "needs_background": "light"
          },
          "output_type": "display_data"
        }
      ],
      "source": [
        "sns.scatterplot(x=new_show_df['runtime'], y=new_show_df['imdb_score']);"
      ]
    },
    {
      "cell_type": "markdown",
      "metadata": {
        "id": "-_V4I3Ozsdcb"
      },
      "source": [
        "Perhaps the TV Show with high runtime do not have a good imdb_score comparitively. The TV Shows having a runtime of 20 minutes to 65 minutes are highly rated."
      ]
    },
    {
      "cell_type": "markdown",
      "metadata": {
        "id": "m5vYLwjtsdcc"
      },
      "source": [
        "#### Q4: What is the name of the TV Show or Movie which is highest imdb_score and was released in the year 2020"
      ]
    },
    {
      "cell_type": "markdown",
      "metadata": {
        "id": "YtvEBSVisdcc"
      },
      "source": [
        "Let's create a subset of the dataframe which corresponds to the year 2020"
      ]
    },
    {
      "cell_type": "code",
      "execution_count": null,
      "metadata": {
        "id": "mZvSVdYPsdcc",
        "outputId": "bd320441-9552-4d39-f39d-d3bd666086e2"
      },
      "outputs": [
        {
          "data": {
            "text/html": [
              "<div>\n",
              "<style scoped>\n",
              "    .dataframe tbody tr th:only-of-type {\n",
              "        vertical-align: middle;\n",
              "    }\n",
              "\n",
              "    .dataframe tbody tr th {\n",
              "        vertical-align: top;\n",
              "    }\n",
              "\n",
              "    .dataframe thead th {\n",
              "        text-align: right;\n",
              "    }\n",
              "</style>\n",
              "<table border=\"1\" class=\"dataframe\">\n",
              "  <thead>\n",
              "    <tr style=\"text-align: right;\">\n",
              "      <th></th>\n",
              "      <th>id</th>\n",
              "      <th>title</th>\n",
              "      <th>type</th>\n",
              "      <th>release_year</th>\n",
              "      <th>runtime</th>\n",
              "      <th>genres</th>\n",
              "      <th>imdb_score</th>\n",
              "    </tr>\n",
              "  </thead>\n",
              "  <tbody>\n",
              "    <tr>\n",
              "      <th>3180</th>\n",
              "      <td>ts216679</td>\n",
              "      <td>Bridgerton</td>\n",
              "      <td>SHOW</td>\n",
              "      <td>2020</td>\n",
              "      <td>62</td>\n",
              "      <td>['drama', 'romance']</td>\n",
              "      <td>7.300000</td>\n",
              "    </tr>\n",
              "    <tr>\n",
              "      <th>3187</th>\n",
              "      <td>tm681578</td>\n",
              "      <td>The Rental</td>\n",
              "      <td>MOVIE</td>\n",
              "      <td>2020</td>\n",
              "      <td>88</td>\n",
              "      <td>['thriller', 'drama', 'horror']</td>\n",
              "      <td>5.700000</td>\n",
              "    </tr>\n",
              "    <tr>\n",
              "      <th>3189</th>\n",
              "      <td>ts87453</td>\n",
              "      <td>Space Force</td>\n",
              "      <td>SHOW</td>\n",
              "      <td>2020</td>\n",
              "      <td>30</td>\n",
              "      <td>['comedy']</td>\n",
              "      <td>6.700000</td>\n",
              "    </tr>\n",
              "    <tr>\n",
              "      <th>3191</th>\n",
              "      <td>tm832345</td>\n",
              "      <td>365 Days</td>\n",
              "      <td>MOVIE</td>\n",
              "      <td>2020</td>\n",
              "      <td>114</td>\n",
              "      <td>['romance', 'drama', 'european']</td>\n",
              "      <td>3.300000</td>\n",
              "    </tr>\n",
              "    <tr>\n",
              "      <th>3192</th>\n",
              "      <td>ts89259</td>\n",
              "      <td>The Queen's Gambit</td>\n",
              "      <td>SHOW</td>\n",
              "      <td>2020</td>\n",
              "      <td>56</td>\n",
              "      <td>['drama', 'sport']</td>\n",
              "      <td>8.600000</td>\n",
              "    </tr>\n",
              "    <tr>\n",
              "      <th>...</th>\n",
              "      <td>...</td>\n",
              "      <td>...</td>\n",
              "      <td>...</td>\n",
              "      <td>...</td>\n",
              "      <td>...</td>\n",
              "      <td>...</td>\n",
              "      <td>...</td>\n",
              "    </tr>\n",
              "    <tr>\n",
              "      <th>4820</th>\n",
              "      <td>tm915354</td>\n",
              "      <td>Girl's Revenge</td>\n",
              "      <td>MOVIE</td>\n",
              "      <td>2020</td>\n",
              "      <td>81</td>\n",
              "      <td>['drama']</td>\n",
              "      <td>5.700000</td>\n",
              "    </tr>\n",
              "    <tr>\n",
              "      <th>4823</th>\n",
              "      <td>tm921230</td>\n",
              "      <td>Story of Kale: When Someone's in Love</td>\n",
              "      <td>MOVIE</td>\n",
              "      <td>2020</td>\n",
              "      <td>77</td>\n",
              "      <td>['drama', 'romance']</td>\n",
              "      <td>6.400000</td>\n",
              "    </tr>\n",
              "    <tr>\n",
              "      <th>4827</th>\n",
              "      <td>tm840236</td>\n",
              "      <td>Milea</td>\n",
              "      <td>MOVIE</td>\n",
              "      <td>2020</td>\n",
              "      <td>99</td>\n",
              "      <td>['romance', 'drama']</td>\n",
              "      <td>6.400000</td>\n",
              "    </tr>\n",
              "    <tr>\n",
              "      <th>4829</th>\n",
              "      <td>ts224956</td>\n",
              "      <td>What the Love! with Karan Johar</td>\n",
              "      <td>SHOW</td>\n",
              "      <td>2020</td>\n",
              "      <td>47</td>\n",
              "      <td>['reality']</td>\n",
              "      <td>6.533447</td>\n",
              "    </tr>\n",
              "    <tr>\n",
              "      <th>4830</th>\n",
              "      <td>ts283159</td>\n",
              "      <td>A Perfect Day for Arsenide</td>\n",
              "      <td>SHOW</td>\n",
              "      <td>2020</td>\n",
              "      <td>23</td>\n",
              "      <td>['drama', 'romance']</td>\n",
              "      <td>5.000000</td>\n",
              "    </tr>\n",
              "  </tbody>\n",
              "</table>\n",
              "<p>805 rows × 7 columns</p>\n",
              "</div>"
            ],
            "text/plain": [
              "            id                                  title   type  release_year  \\\n",
              "3180  ts216679                             Bridgerton   SHOW          2020   \n",
              "3187  tm681578                             The Rental  MOVIE          2020   \n",
              "3189   ts87453                            Space Force   SHOW          2020   \n",
              "3191  tm832345                               365 Days  MOVIE          2020   \n",
              "3192   ts89259                     The Queen's Gambit   SHOW          2020   \n",
              "...        ...                                    ...    ...           ...   \n",
              "4820  tm915354                         Girl's Revenge  MOVIE          2020   \n",
              "4823  tm921230  Story of Kale: When Someone's in Love  MOVIE          2020   \n",
              "4827  tm840236                                  Milea  MOVIE          2020   \n",
              "4829  ts224956        What the Love! with Karan Johar   SHOW          2020   \n",
              "4830  ts283159             A Perfect Day for Arsenide   SHOW          2020   \n",
              "\n",
              "      runtime                            genres  imdb_score  \n",
              "3180       62              ['drama', 'romance']    7.300000  \n",
              "3187       88   ['thriller', 'drama', 'horror']    5.700000  \n",
              "3189       30                        ['comedy']    6.700000  \n",
              "3191      114  ['romance', 'drama', 'european']    3.300000  \n",
              "3192       56                ['drama', 'sport']    8.600000  \n",
              "...       ...                               ...         ...  \n",
              "4820       81                         ['drama']    5.700000  \n",
              "4823       77              ['drama', 'romance']    6.400000  \n",
              "4827       99              ['romance', 'drama']    6.400000  \n",
              "4829       47                       ['reality']    6.533447  \n",
              "4830       23              ['drama', 'romance']    5.000000  \n",
              "\n",
              "[805 rows x 7 columns]"
            ]
          },
          "execution_count": 61,
          "metadata": {},
          "output_type": "execute_result"
        }
      ],
      "source": [
        "latest_df = df1[df1['release_year']==2020]\n",
        "latest_df"
      ]
    },
    {
      "cell_type": "markdown",
      "metadata": {
        "id": "Y1K3f29hsdcd"
      },
      "source": [
        "After creating the subset of the dataframe, let's sort the dataframe by using sort_values"
      ]
    },
    {
      "cell_type": "code",
      "execution_count": null,
      "metadata": {
        "id": "ZVtfZL2Psdcf",
        "outputId": "2c8274bd-a01c-46da-9f59-60becefabb65"
      },
      "outputs": [
        {
          "data": {
            "text/html": [
              "<div>\n",
              "<style scoped>\n",
              "    .dataframe tbody tr th:only-of-type {\n",
              "        vertical-align: middle;\n",
              "    }\n",
              "\n",
              "    .dataframe tbody tr th {\n",
              "        vertical-align: top;\n",
              "    }\n",
              "\n",
              "    .dataframe thead th {\n",
              "        text-align: right;\n",
              "    }\n",
              "</style>\n",
              "<table border=\"1\" class=\"dataframe\">\n",
              "  <thead>\n",
              "    <tr style=\"text-align: right;\">\n",
              "      <th></th>\n",
              "      <th>id</th>\n",
              "      <th>title</th>\n",
              "      <th>type</th>\n",
              "      <th>release_year</th>\n",
              "      <th>runtime</th>\n",
              "      <th>genres</th>\n",
              "      <th>imdb_score</th>\n",
              "    </tr>\n",
              "  </thead>\n",
              "  <tbody>\n",
              "    <tr>\n",
              "      <th>3196</th>\n",
              "      <td>ts81120</td>\n",
              "      <td>The Last Dance</td>\n",
              "      <td>SHOW</td>\n",
              "      <td>2020</td>\n",
              "      <td>50</td>\n",
              "      <td>['documentation', 'history', 'sport']</td>\n",
              "      <td>9.1</td>\n",
              "    </tr>\n",
              "  </tbody>\n",
              "</table>\n",
              "</div>"
            ],
            "text/plain": [
              "           id           title  type  release_year  runtime  \\\n",
              "3196  ts81120  The Last Dance  SHOW          2020       50   \n",
              "\n",
              "                                     genres  imdb_score  \n",
              "3196  ['documentation', 'history', 'sport']         9.1  "
            ]
          },
          "execution_count": 62,
          "metadata": {},
          "output_type": "execute_result"
        }
      ],
      "source": [
        "latest_df.sort_values('imdb_score', ascending=False).head(1)"
      ]
    },
    {
      "cell_type": "markdown",
      "metadata": {
        "id": "djCUnf0Gsdcf"
      },
      "source": [
        "We can see that the title The Last Dance which is of the type SHOW having a runtime of 50 minutes has the highest imdb_score in the year 2020"
      ]
    },
    {
      "cell_type": "code",
      "execution_count": null,
      "metadata": {
        "id": "E1RgQkYwsdcf",
        "outputId": "705c67cd-d58b-40be-8720-5c12229e4b47"
      },
      "outputs": [
        {
          "data": {
            "image/png": "[encoded data removed]",
            "text/plain": [
              "<Figure size 648x360 with 1 Axes>"
            ]
          },
          "metadata": {
            "needs_background": "light"
          },
          "output_type": "display_data"
        }
      ],
      "source": [
        "sns.scatterplot(x=latest_df['runtime'], y=latest_df['imdb_score'], hue=latest_df['type']);"
      ]
    },
    {
      "cell_type": "markdown",
      "metadata": {
        "id": "7-Yby4Ogsdcf"
      },
      "source": [
        "The scatter plot clearly says that TV Show has the highest imdb_score.There are very less TV Shows released in the year 2020 with high runtime."
      ]
    },
    {
      "cell_type": "code",
      "execution_count": null,
      "metadata": {
        "id": "bKUWZlMcsdch",
        "outputId": "ddbdd6b6-b58e-4211-a8d6-593c170b6281"
      },
      "outputs": [
        {
          "data": {
            "text/html": [
              "<div>\n",
              "<style scoped>\n",
              "    .dataframe tbody tr th:only-of-type {\n",
              "        vertical-align: middle;\n",
              "    }\n",
              "\n",
              "    .dataframe tbody tr th {\n",
              "        vertical-align: top;\n",
              "    }\n",
              "\n",
              "    .dataframe thead th {\n",
              "        text-align: right;\n",
              "    }\n",
              "</style>\n",
              "<table border=\"1\" class=\"dataframe\">\n",
              "  <thead>\n",
              "    <tr style=\"text-align: right;\">\n",
              "      <th></th>\n",
              "      <th>id</th>\n",
              "      <th>title</th>\n",
              "      <th>type</th>\n",
              "      <th>description</th>\n",
              "      <th>release_year</th>\n",
              "      <th>age_certification</th>\n",
              "      <th>runtime</th>\n",
              "      <th>genres</th>\n",
              "      <th>production_countries</th>\n",
              "      <th>seasons</th>\n",
              "      <th>imdb_id</th>\n",
              "      <th>imdb_score</th>\n",
              "      <th>imdb_votes</th>\n",
              "      <th>tmdb_popularity</th>\n",
              "      <th>tmdb_score</th>\n",
              "    </tr>\n",
              "  </thead>\n",
              "  <tbody>\n",
              "    <tr>\n",
              "      <th>0</th>\n",
              "      <td>ts300399</td>\n",
              "      <td>Five Came Back: The Reference Films</td>\n",
              "      <td>SHOW</td>\n",
              "      <td>This collection includes 12 World War II-era p...</td>\n",
              "      <td>1945</td>\n",
              "      <td>TV-MA</td>\n",
              "      <td>48</td>\n",
              "      <td>['documentation']</td>\n",
              "      <td>['US']</td>\n",
              "      <td>1.0</td>\n",
              "      <td>NaN</td>\n",
              "      <td>NaN</td>\n",
              "      <td>NaN</td>\n",
              "      <td>0.600</td>\n",
              "      <td>NaN</td>\n",
              "    </tr>\n",
              "    <tr>\n",
              "      <th>1</th>\n",
              "      <td>tm84618</td>\n",
              "      <td>Taxi Driver</td>\n",
              "      <td>MOVIE</td>\n",
              "      <td>A mentally unstable Vietnam War veteran works ...</td>\n",
              "      <td>1976</td>\n",
              "      <td>R</td>\n",
              "      <td>113</td>\n",
              "      <td>['crime', 'drama']</td>\n",
              "      <td>['US']</td>\n",
              "      <td>NaN</td>\n",
              "      <td>tt0075314</td>\n",
              "      <td>8.3</td>\n",
              "      <td>795222.0</td>\n",
              "      <td>27.612</td>\n",
              "      <td>8.2</td>\n",
              "    </tr>\n",
              "    <tr>\n",
              "      <th>2</th>\n",
              "      <td>tm127384</td>\n",
              "      <td>Monty Python and the Holy Grail</td>\n",
              "      <td>MOVIE</td>\n",
              "      <td>King Arthur, accompanied by his squire, recrui...</td>\n",
              "      <td>1975</td>\n",
              "      <td>PG</td>\n",
              "      <td>91</td>\n",
              "      <td>['comedy', 'fantasy']</td>\n",
              "      <td>['GB']</td>\n",
              "      <td>NaN</td>\n",
              "      <td>tt0071853</td>\n",
              "      <td>8.2</td>\n",
              "      <td>530877.0</td>\n",
              "      <td>18.216</td>\n",
              "      <td>7.8</td>\n",
              "    </tr>\n",
              "    <tr>\n",
              "      <th>3</th>\n",
              "      <td>tm70993</td>\n",
              "      <td>Life of Brian</td>\n",
              "      <td>MOVIE</td>\n",
              "      <td>Brian Cohen is an average young Jewish man, bu...</td>\n",
              "      <td>1979</td>\n",
              "      <td>R</td>\n",
              "      <td>94</td>\n",
              "      <td>['comedy']</td>\n",
              "      <td>['GB']</td>\n",
              "      <td>NaN</td>\n",
              "      <td>tt0079470</td>\n",
              "      <td>8.0</td>\n",
              "      <td>392419.0</td>\n",
              "      <td>17.505</td>\n",
              "      <td>7.8</td>\n",
              "    </tr>\n",
              "    <tr>\n",
              "      <th>4</th>\n",
              "      <td>tm190788</td>\n",
              "      <td>The Exorcist</td>\n",
              "      <td>MOVIE</td>\n",
              "      <td>12-year-old Regan MacNeil begins to adapt an e...</td>\n",
              "      <td>1973</td>\n",
              "      <td>R</td>\n",
              "      <td>133</td>\n",
              "      <td>['horror']</td>\n",
              "      <td>['US']</td>\n",
              "      <td>NaN</td>\n",
              "      <td>tt0070047</td>\n",
              "      <td>8.1</td>\n",
              "      <td>391942.0</td>\n",
              "      <td>95.337</td>\n",
              "      <td>7.7</td>\n",
              "    </tr>\n",
              "    <tr>\n",
              "      <th>...</th>\n",
              "      <td>...</td>\n",
              "      <td>...</td>\n",
              "      <td>...</td>\n",
              "      <td>...</td>\n",
              "      <td>...</td>\n",
              "      <td>...</td>\n",
              "      <td>...</td>\n",
              "      <td>...</td>\n",
              "      <td>...</td>\n",
              "      <td>...</td>\n",
              "      <td>...</td>\n",
              "      <td>...</td>\n",
              "      <td>...</td>\n",
              "      <td>...</td>\n",
              "      <td>...</td>\n",
              "    </tr>\n",
              "    <tr>\n",
              "      <th>5801</th>\n",
              "      <td>tm1014599</td>\n",
              "      <td>Fine Wine</td>\n",
              "      <td>MOVIE</td>\n",
              "      <td>A beautiful love story that can happen between...</td>\n",
              "      <td>2021</td>\n",
              "      <td>NaN</td>\n",
              "      <td>100</td>\n",
              "      <td>['romance', 'drama']</td>\n",
              "      <td>['NG']</td>\n",
              "      <td>NaN</td>\n",
              "      <td>tt13857480</td>\n",
              "      <td>6.9</td>\n",
              "      <td>39.0</td>\n",
              "      <td>0.966</td>\n",
              "      <td>NaN</td>\n",
              "    </tr>\n",
              "    <tr>\n",
              "      <th>5802</th>\n",
              "      <td>tm1108171</td>\n",
              "      <td>Edis Starlight</td>\n",
              "      <td>MOVIE</td>\n",
              "      <td>Rising star Edis's career journey with ups and...</td>\n",
              "      <td>2021</td>\n",
              "      <td>NaN</td>\n",
              "      <td>74</td>\n",
              "      <td>['music', 'documentation']</td>\n",
              "      <td>[]</td>\n",
              "      <td>NaN</td>\n",
              "      <td>NaN</td>\n",
              "      <td>NaN</td>\n",
              "      <td>NaN</td>\n",
              "      <td>1.036</td>\n",
              "      <td>8.5</td>\n",
              "    </tr>\n",
              "    <tr>\n",
              "      <th>5803</th>\n",
              "      <td>tm1045018</td>\n",
              "      <td>Clash</td>\n",
              "      <td>MOVIE</td>\n",
              "      <td>A man from Nigeria returns to his family in Ca...</td>\n",
              "      <td>2021</td>\n",
              "      <td>NaN</td>\n",
              "      <td>88</td>\n",
              "      <td>['family', 'drama']</td>\n",
              "      <td>['NG', 'CA']</td>\n",
              "      <td>NaN</td>\n",
              "      <td>tt14620732</td>\n",
              "      <td>6.5</td>\n",
              "      <td>32.0</td>\n",
              "      <td>0.709</td>\n",
              "      <td>NaN</td>\n",
              "    </tr>\n",
              "    <tr>\n",
              "      <th>5804</th>\n",
              "      <td>tm1098060</td>\n",
              "      <td>Shadow Parties</td>\n",
              "      <td>MOVIE</td>\n",
              "      <td>A family faces destruction in a long-running c...</td>\n",
              "      <td>2021</td>\n",
              "      <td>NaN</td>\n",
              "      <td>116</td>\n",
              "      <td>['action', 'thriller']</td>\n",
              "      <td>[]</td>\n",
              "      <td>NaN</td>\n",
              "      <td>tt10168094</td>\n",
              "      <td>6.2</td>\n",
              "      <td>9.0</td>\n",
              "      <td>2.186</td>\n",
              "      <td>NaN</td>\n",
              "    </tr>\n",
              "    <tr>\n",
              "      <th>5805</th>\n",
              "      <td>ts271048</td>\n",
              "      <td>Mighty Little Bheem: Kite Festival</td>\n",
              "      <td>SHOW</td>\n",
              "      <td>With winter behind them, Bheem and his townspe...</td>\n",
              "      <td>2021</td>\n",
              "      <td>NaN</td>\n",
              "      <td>0</td>\n",
              "      <td>['family', 'comedy', 'animation']</td>\n",
              "      <td>[]</td>\n",
              "      <td>1.0</td>\n",
              "      <td>tt13711094</td>\n",
              "      <td>8.8</td>\n",
              "      <td>16.0</td>\n",
              "      <td>0.979</td>\n",
              "      <td>10.0</td>\n",
              "    </tr>\n",
              "  </tbody>\n",
              "</table>\n",
              "<p>5806 rows × 15 columns</p>\n",
              "</div>"
            ],
            "text/plain": [
              "             id                                title   type  \\\n",
              "0      ts300399  Five Came Back: The Reference Films   SHOW   \n",
              "1       tm84618                          Taxi Driver  MOVIE   \n",
              "2      tm127384      Monty Python and the Holy Grail  MOVIE   \n",
              "3       tm70993                        Life of Brian  MOVIE   \n",
              "4      tm190788                         The Exorcist  MOVIE   \n",
              "...         ...                                  ...    ...   \n",
              "5801  tm1014599                            Fine Wine  MOVIE   \n",
              "5802  tm1108171                       Edis Starlight  MOVIE   \n",
              "5803  tm1045018                                Clash  MOVIE   \n",
              "5804  tm1098060                       Shadow Parties  MOVIE   \n",
              "5805   ts271048   Mighty Little Bheem: Kite Festival   SHOW   \n",
              "\n",
              "                                            description  release_year  \\\n",
              "0     This collection includes 12 World War II-era p...          1945   \n",
              "1     A mentally unstable Vietnam War veteran works ...          1976   \n",
              "2     King Arthur, accompanied by his squire, recrui...          1975   \n",
              "3     Brian Cohen is an average young Jewish man, bu...          1979   \n",
              "4     12-year-old Regan MacNeil begins to adapt an e...          1973   \n",
              "...                                                 ...           ...   \n",
              "5801  A beautiful love story that can happen between...          2021   \n",
              "5802  Rising star Edis's career journey with ups and...          2021   \n",
              "5803  A man from Nigeria returns to his family in Ca...          2021   \n",
              "5804  A family faces destruction in a long-running c...          2021   \n",
              "5805  With winter behind them, Bheem and his townspe...          2021   \n",
              "\n",
              "     age_certification  runtime                             genres  \\\n",
              "0                TV-MA       48                  ['documentation']   \n",
              "1                    R      113                 ['crime', 'drama']   \n",
              "2                   PG       91              ['comedy', 'fantasy']   \n",
              "3                    R       94                         ['comedy']   \n",
              "4                    R      133                         ['horror']   \n",
              "...                ...      ...                                ...   \n",
              "5801               NaN      100               ['romance', 'drama']   \n",
              "5802               NaN       74         ['music', 'documentation']   \n",
              "5803               NaN       88                ['family', 'drama']   \n",
              "5804               NaN      116             ['action', 'thriller']   \n",
              "5805               NaN        0  ['family', 'comedy', 'animation']   \n",
              "\n",
              "     production_countries  seasons     imdb_id  imdb_score  imdb_votes  \\\n",
              "0                  ['US']      1.0         NaN         NaN         NaN   \n",
              "1                  ['US']      NaN   tt0075314         8.3    795222.0   \n",
              "2                  ['GB']      NaN   tt0071853         8.2    530877.0   \n",
              "3                  ['GB']      NaN   tt0079470         8.0    392419.0   \n",
              "4                  ['US']      NaN   tt0070047         8.1    391942.0   \n",
              "...                   ...      ...         ...         ...         ...   \n",
              "5801               ['NG']      NaN  tt13857480         6.9        39.0   \n",
              "5802                   []      NaN         NaN         NaN         NaN   \n",
              "5803         ['NG', 'CA']      NaN  tt14620732         6.5        32.0   \n",
              "5804                   []      NaN  tt10168094         6.2         9.0   \n",
              "5805                   []      1.0  tt13711094         8.8        16.0   \n",
              "\n",
              "      tmdb_popularity  tmdb_score  \n",
              "0               0.600         NaN  \n",
              "1              27.612         8.2  \n",
              "2              18.216         7.8  \n",
              "3              17.505         7.8  \n",
              "4              95.337         7.7  \n",
              "...               ...         ...  \n",
              "5801            0.966         NaN  \n",
              "5802            1.036         8.5  \n",
              "5803            0.709         NaN  \n",
              "5804            2.186         NaN  \n",
              "5805            0.979        10.0  \n",
              "\n",
              "[5806 rows x 15 columns]"
            ]
          },
          "execution_count": 66,
          "metadata": {},
          "output_type": "execute_result"
        }
      ],
      "source": [
        "df"
      ]
    },
    {
      "cell_type": "markdown",
      "metadata": {
        "id": "AGwc-HTTsdch"
      },
      "source": [
        "## Inferences and Conclusions\n",
        "\n",
        "We've drawn many inferences from the survey. Here's a summary of a few of them:\n",
        "\n",
        "- Based on the dataset, we came to know that as the years passed, there was rapid change in the release of TV Shows and Movies in the Netflix Streaming.\n",
        "\n",
        "- The count of movies is comparitively more than the TV Shows on the Netflix Streaming. We can say that the number of movies released are almost twice more than the release of TV Shows.\n",
        "\n",
        "\n",
        "- There was a major increase in the release of TV Shows and Movies till 2019, but after this the release of TV Shows and Movies reduced till 2022.\n",
        "\n",
        "- The most number of released TV Shows and Movies fall under the genre of 'Comedy'.\n",
        "\n",
        "- The Analysis says that most of the TV Shows and movies in Netflix Streaming have a runtime of around 24 minutes.\n",
        "\n",
        "- The average IMDB Score of TV Shows and Movies is around 6.5 in Netflix Streaming."
      ]
    },
    {
      "cell_type": "markdown",
      "metadata": {
        "id": "3vvo97zosdch"
      },
      "source": [
        "## References and Future Work\n",
        "\n",
        "Check out the following resources to learn more about the dataset and tools used in this notebook:\n",
        "\n",
        "- Dataset : https://www.kaggle.com/datasets/victorsoeiro/netflix-tv-shows-and-movies\n",
        "- Pandas user guide: https://pandas.pydata.org/docs/user_guide/index.html\n",
        "- Matplotlib user guide: https://matplotlib.org/3.3.1/users/index.html\n",
        "- Seaborn user guide & tutorial: https://seaborn.pydata.org/tutorial.html"
      ]
    }
  ],
  "metadata": {
    "kernelspec": {
      "display_name": "Python 3 (ipykernel)",
      "language": "python",
      "name": "python3"
    },
    "language_info": {
      "codemirror_mode": {
        "name": "ipython",
        "version": 3
      },
      "file_extension": ".py",
      "mimetype": "text/x-python",
      "name": "python",
      "nbconvert_exporter": "python",
      "pygments_lexer": "ipython3",
      "version": "3.9.6"
    },
    "colab": {
      "name": "zerotopandas-course-project.ipynb",
      "provenance": []
    }
  },
  "nbformat": 4,
  "nbformat_minor": 0
}